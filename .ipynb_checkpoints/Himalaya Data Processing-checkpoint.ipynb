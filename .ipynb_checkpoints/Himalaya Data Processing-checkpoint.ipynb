{
 "cells": [
  {
   "cell_type": "code",
   "execution_count": 1,
   "metadata": {},
   "outputs": [],
   "source": [
    "import pandas as pd\n",
    "import numpy as np\n"
   ]
  },
  {
   "cell_type": "markdown",
   "metadata": {},
   "source": [
    "#### Data Source\n",
    "https://www.himalayandatabase.com/index.html\n",
    "\n",
    "##### Guide\n",
    "https://www.himalayandatabase.com/downloads/HD%20Online%20Guide.pdf"
   ]
  },
  {
   "cell_type": "code",
   "execution_count": 2,
   "metadata": {},
   "outputs": [
    {
     "name": "stderr",
     "output_type": "stream",
     "text": [
      "C:\\Users\\botiv\\anaconda3\\lib\\site-packages\\IPython\\core\\interactiveshell.py:3071: DtypeWarning: Columns (8,18,19) have mixed types.Specify dtype option on import or set low_memory=False.\n",
      "  has_raised = await self.run_ast_nodes(code_ast.body, cell_name,\n",
      "C:\\Users\\botiv\\anaconda3\\lib\\site-packages\\IPython\\core\\interactiveshell.py:3071: DtypeWarning: Columns (70) have mixed types.Specify dtype option on import or set low_memory=False.\n",
      "  has_raised = await self.run_ast_nodes(code_ast.body, cell_name,\n"
     ]
    }
   ],
   "source": [
    "df_peaks = pd.read_csv(\"./Himalayan Database/RawData/peaksall.csv\")\n",
    "df_ex = pd.read_csv(\"./Himalayan Database/RawData/expeditions.csv\")\n",
    "df_mem = pd.read_csv(\"./Himalayan Database/RawData/members.csv\")"
   ]
  },
  {
   "cell_type": "code",
   "execution_count": 3,
   "metadata": {},
   "outputs": [
    {
     "data": {
      "text/plain": [
       "Index(['expid', 'membid', 'peakid', 'myear', 'mseason', 'fname', 'lname',\n",
       "       'sex', 'age', 'birthdate', 'yob', 'calcage', 'citizen', 'status',\n",
       "       'residence', 'occupation', 'leader', 'deputy', 'bconly', 'nottobc',\n",
       "       'support', 'disabled', 'hired', 'sherpa', 'tibetan', 'msuccess',\n",
       "       'mclaimed', 'mdisputed', 'msolo', 'mtraverse', 'mski', 'mparapente',\n",
       "       'mspeed', 'mhighpt', 'mperhighpt', 'msmtdate1', 'msmtdate2',\n",
       "       'msmtdate3', 'msmttime1', 'msmttime2', 'msmttime3', 'mroute1',\n",
       "       'mroute2', 'mroute3', 'mascent1', 'mascent2', 'mascent3', 'mo2used',\n",
       "       'mo2none', 'mo2climb', 'mo2descent', 'mo2sleep', 'mo2medical',\n",
       "       'mo2note', 'death', 'deathdate', 'deathtime', 'deathtype', 'deathhgtm',\n",
       "       'deathclass', 'msmtbid', 'msmtterm', 'hcn', 'mchksum', 'host', 'comrte',\n",
       "       'stdrte', 'route1', 'route2', 'route3', 'route4', 'nation', 'leaders',\n",
       "       'sponsor', 'termreason', 'totmembers', 'smtmembers', 'mdeaths',\n",
       "       'tothired', 'nohired', 'smthired', 'hdeaths', 'bcdate', 'pkname',\n",
       "       'heightm'],\n",
       "      dtype='object')"
      ]
     },
     "execution_count": 3,
     "metadata": {},
     "output_type": "execute_result"
    }
   ],
   "source": [
    "df_mem.columns"
   ]
  },
  {
   "cell_type": "markdown",
   "metadata": {},
   "source": [
    "### Countries"
   ]
  },
  {
   "cell_type": "code",
   "execution_count": 4,
   "metadata": {
    "scrolled": true
   },
   "outputs": [
    {
     "name": "stdout",
     "output_type": "stream",
     "text": [
      "['Argentina', 'Ukraine', 'Uzbekistan', 'S Korea', 'Norway', 'Zambia', 'Germany', 'Hong Kong', 'Ireland', 'Cyprus', 'Russia', 'Dominican Republic', 'W Germany', 'Turkey', 'Netherlands', 'Israel', 'Kenya', 'Egypt', 'New Zealand', 'Myanmar', 'Australia', 'UK', 'Slovenia', 'Mexico', 'USSR', 'Czechoslovakia', 'Yugoslavia', 'India?', 'Moldova', 'Jordan', 'S Africa', 'Azerbaijan', 'Portugal', 'Qatar', 'Taiwan', 'Tunisia', 'Finland', 'Switzerland', 'Sweden', 'Mongolia', 'Malaysia', 'Armenia', 'Mauritius', 'Iran', 'Georgia', 'Vietnam', 'France', 'Serbia', 'Denmark', 'Montenegro', 'Liechtenstein', 'Slovakia', 'Nepal', 'Luxembourg', 'Spain', 'Palestine', 'Kuwait', 'Thailand', 'Brazil', 'Bolivia', 'Panama', 'USA', 'Malta', 'N Korea', 'Japan', 'Czech Republic', 'Greece', 'San Marino', 'Bangladesh', 'Hungary', 'Ecuador', 'Costa Rica', 'Jamaica', 'Iceland', 'Croatia', 'Belgium', 'Turkmenistan', 'Estonia', 'Colombia', 'Guatemala', 'Lebanon', 'Bosnia-Herzegovina', 'Peru', 'Kyrgyz Republic', 'Poland', 'Andorra', 'Latvia', 'Algeria', 'Macedonia', 'Canada', 'Belarus', 'Oman', 'Indonesia', 'Singapore', 'Bulgaria', 'Pakistan', 'Kazakhstan', 'Venezuela', 'Uruguay', 'Saudi Arabia', 'China', 'Lithuania', 'Italy', 'Sri Lanka', 'Romania', 'Tanzania', 'Austria', 'UAE', 'Albania', 'India', 'Chile', 'Bhutan', 'Bahrain', 'Morocco', 'Philippines']\n"
     ]
    }
   ],
   "source": [
    "print(list(set((\"/\").join(df_mem.citizen.dropna().unique()).split(\"/\"))))"
   ]
  },
  {
   "cell_type": "code",
   "execution_count": null,
   "metadata": {},
   "outputs": [],
   "source": []
  },
  {
   "cell_type": "code",
   "execution_count": 5,
   "metadata": {},
   "outputs": [],
   "source": [
    "##df_mem.citizen.apply(lambda x : coco.convert(names=x, to='ISO2') if manual_map.get(x) == None  else manual_map.get(x))"
   ]
  },
  {
   "cell_type": "code",
   "execution_count": null,
   "metadata": {},
   "outputs": [],
   "source": []
  },
  {
   "cell_type": "markdown",
   "metadata": {},
   "source": [
    "### Get Members ready to join"
   ]
  },
  {
   "cell_type": "code",
   "execution_count": 6,
   "metadata": {},
   "outputs": [],
   "source": [
    "df_mem['female']  = df_mem.sex.apply(lambda x : True if x==\"F\" else False)"
   ]
  },
  {
   "cell_type": "code",
   "execution_count": null,
   "metadata": {},
   "outputs": [],
   "source": []
  },
  {
   "cell_type": "code",
   "execution_count": 7,
   "metadata": {},
   "outputs": [
    {
     "data": {
      "text/plain": [
       "False    65521\n",
       "True        13\n",
       "Name: mspeed, dtype: int64"
      ]
     },
     "execution_count": 7,
     "metadata": {},
     "output_type": "execute_result"
    }
   ],
   "source": [
    "df_mem.mspeed.value_counts()"
   ]
  },
  {
   "cell_type": "code",
   "execution_count": 8,
   "metadata": {},
   "outputs": [],
   "source": [
    "gdf_mem = df_mem.groupby('peakid').agg({'expid' : 'count' ,'death' : 'sum', 'female' : 'sum', 'calcage' : 'mean', 'citizen' : 'unique','mo2used' : 'sum', \"route1\" : pd.Series.mode})"
   ]
  },
  {
   "cell_type": "code",
   "execution_count": null,
   "metadata": {},
   "outputs": [],
   "source": []
  },
  {
   "cell_type": "markdown",
   "metadata": {},
   "source": [
    "#### Grouby only the succeeding members"
   ]
  },
  {
   "cell_type": "code",
   "execution_count": 9,
   "metadata": {},
   "outputs": [],
   "source": [
    "gdf_mem_success = df_mem[df_mem.msuccess == True].groupby('peakid').agg({'citizen' : 'unique', 'female' : 'sum','expid' : 'count' })"
   ]
  },
  {
   "cell_type": "code",
   "execution_count": 10,
   "metadata": {},
   "outputs": [
    {
     "data": {
      "text/html": [
       "<div>\n",
       "<style scoped>\n",
       "    .dataframe tbody tr th:only-of-type {\n",
       "        vertical-align: middle;\n",
       "    }\n",
       "\n",
       "    .dataframe tbody tr th {\n",
       "        vertical-align: top;\n",
       "    }\n",
       "\n",
       "    .dataframe thead th {\n",
       "        text-align: right;\n",
       "    }\n",
       "</style>\n",
       "<table border=\"1\" class=\"dataframe\">\n",
       "  <thead>\n",
       "    <tr style=\"text-align: right;\">\n",
       "      <th></th>\n",
       "      <th>citizen</th>\n",
       "      <th>female</th>\n",
       "      <th>expid</th>\n",
       "    </tr>\n",
       "    <tr>\n",
       "      <th>peakid</th>\n",
       "      <th></th>\n",
       "      <th></th>\n",
       "      <th></th>\n",
       "    </tr>\n",
       "  </thead>\n",
       "  <tbody>\n",
       "    <tr>\n",
       "      <th>ACHN</th>\n",
       "      <td>[France, Nepal, Japan]</td>\n",
       "      <td>1.0</td>\n",
       "      <td>11</td>\n",
       "    </tr>\n",
       "    <tr>\n",
       "      <th>AMAD</th>\n",
       "      <td>[W Germany, USA, Nepal, France, New Zealand, J...</td>\n",
       "      <td>322.0</td>\n",
       "      <td>3540</td>\n",
       "    </tr>\n",
       "    <tr>\n",
       "      <th>AMPG</th>\n",
       "      <td>[UK, Nepal]</td>\n",
       "      <td>1.0</td>\n",
       "      <td>10</td>\n",
       "    </tr>\n",
       "    <tr>\n",
       "      <th>AMPH</th>\n",
       "      <td>[S Korea]</td>\n",
       "      <td>1.0</td>\n",
       "      <td>3</td>\n",
       "    </tr>\n",
       "    <tr>\n",
       "      <th>AMPM</th>\n",
       "      <td>[Germany]</td>\n",
       "      <td>1.0</td>\n",
       "      <td>5</td>\n",
       "    </tr>\n",
       "    <tr>\n",
       "      <th>...</th>\n",
       "      <td>...</td>\n",
       "      <td>...</td>\n",
       "      <td>...</td>\n",
       "    </tr>\n",
       "    <tr>\n",
       "      <th>URKM</th>\n",
       "      <td>[Japan, Nepal, USA, Austria, France]</td>\n",
       "      <td>3.0</td>\n",
       "      <td>23</td>\n",
       "    </tr>\n",
       "    <tr>\n",
       "      <th>URMA</th>\n",
       "      <td>[Taiwan, S Korea, Singapore, Australia, Nepal,...</td>\n",
       "      <td>11.0</td>\n",
       "      <td>52</td>\n",
       "    </tr>\n",
       "    <tr>\n",
       "      <th>YAKA</th>\n",
       "      <td>[Japan, Nepal]</td>\n",
       "      <td>0.0</td>\n",
       "      <td>4</td>\n",
       "    </tr>\n",
       "    <tr>\n",
       "      <th>YALU</th>\n",
       "      <td>[Japan, W Germany, Austria, Mexico, Poland, Fr...</td>\n",
       "      <td>1.0</td>\n",
       "      <td>53</td>\n",
       "    </tr>\n",
       "    <tr>\n",
       "      <th>YAUP</th>\n",
       "      <td>[UK, USA]</td>\n",
       "      <td>0.0</td>\n",
       "      <td>3</td>\n",
       "    </tr>\n",
       "  </tbody>\n",
       "</table>\n",
       "<p>295 rows × 3 columns</p>\n",
       "</div>"
      ],
      "text/plain": [
       "                                                  citizen  female  expid\n",
       "peakid                                                                  \n",
       "ACHN                               [France, Nepal, Japan]     1.0     11\n",
       "AMAD    [W Germany, USA, Nepal, France, New Zealand, J...   322.0   3540\n",
       "AMPG                                          [UK, Nepal]     1.0     10\n",
       "AMPH                                            [S Korea]     1.0      3\n",
       "AMPM                                            [Germany]     1.0      5\n",
       "...                                                   ...     ...    ...\n",
       "URKM                 [Japan, Nepal, USA, Austria, France]     3.0     23\n",
       "URMA    [Taiwan, S Korea, Singapore, Australia, Nepal,...    11.0     52\n",
       "YAKA                                       [Japan, Nepal]     0.0      4\n",
       "YALU    [Japan, W Germany, Austria, Mexico, Poland, Fr...     1.0     53\n",
       "YAUP                                            [UK, USA]     0.0      3\n",
       "\n",
       "[295 rows x 3 columns]"
      ]
     },
     "execution_count": 10,
     "metadata": {},
     "output_type": "execute_result"
    }
   ],
   "source": [
    "gdf_mem_success "
   ]
  },
  {
   "cell_type": "code",
   "execution_count": 11,
   "metadata": {},
   "outputs": [],
   "source": [
    "#gdf_mem.columns = ['_'.join(col).strip() for col in gdf_mem.columns.values]\n",
    "#gdf_mem_success.columns = ['_'.join(col).strip() for col in gdf_mem_success.columns.values]"
   ]
  },
  {
   "cell_type": "code",
   "execution_count": 12,
   "metadata": {},
   "outputs": [],
   "source": [
    "## Rename columns accordingly"
   ]
  },
  {
   "cell_type": "code",
   "execution_count": 13,
   "metadata": {},
   "outputs": [],
   "source": [
    "gdf_mem.rename(columns={'expid' : 'count_mem_try', \"female\" :  \"count_mem_try_female\", \"calcage\" :\"mean_mem_try_age\", \"citizen\" : \"country_mem_try\", \"route1\" : \"most_pop_route\" }, inplace=True)\n",
    "gdf_mem_success.rename(columns={'expid' : 'count_mem_success', \"female\" :  \"count_mem_success_female\", \"calcage\" :\"mean_mem_success_age\", \"citizen\" : \"country_mem_success\" }, inplace=True)"
   ]
  },
  {
   "cell_type": "code",
   "execution_count": 14,
   "metadata": {},
   "outputs": [],
   "source": [
    "gdf_mem = pd.merge(gdf_mem,gdf_mem_success, on=\"peakid\", how=\"left\") "
   ]
  },
  {
   "cell_type": "code",
   "execution_count": 15,
   "metadata": {},
   "outputs": [],
   "source": [
    "gdf_mem.reset_index(inplace=True)"
   ]
  },
  {
   "cell_type": "markdown",
   "metadata": {},
   "source": [
    "### Merge with Peak data"
   ]
  },
  {
   "cell_type": "code",
   "execution_count": 16,
   "metadata": {},
   "outputs": [],
   "source": [
    "df = pd.merge(df_peaks,gdf_mem, on='peakid', how=\"left\")"
   ]
  },
  {
   "cell_type": "code",
   "execution_count": 17,
   "metadata": {},
   "outputs": [],
   "source": [
    "## WOrk with the ones with coords\n",
    "df.dropna(subset=[\"lng\"], inplace=True)"
   ]
  },
  {
   "cell_type": "markdown",
   "metadata": {},
   "source": [
    "##### Adding ISO the the countries"
   ]
  },
  {
   "cell_type": "code",
   "execution_count": 18,
   "metadata": {},
   "outputs": [],
   "source": [
    "import country_converter as coco\n",
    "\n",
    "manual_map = {\"USSR\": 'USSR', \"UK\" : \"GB\", \"UAE\" : \"AE\", \"W Germany\" : \"DE\", \"S Africa\" : \"ZA\", \"Yugoslavia\" : \"YUG\" }\n"
   ]
  },
  {
   "cell_type": "code",
   "execution_count": 19,
   "metadata": {},
   "outputs": [],
   "source": [
    "df.country_mem_success = df.country_mem_success.apply(lambda x : x if isinstance(x,float) else sum([i.split(\"/\") for i in x ], []))"
   ]
  },
  {
   "cell_type": "code",
   "execution_count": 20,
   "metadata": {},
   "outputs": [],
   "source": [
    "df.country_mem_success = df.country_mem_success.apply(lambda x : [ c if manual_map.get(c) == None else manual_map.get(c) for c in x ] if not isinstance(x,float) else x)"
   ]
  },
  {
   "cell_type": "code",
   "execution_count": 21,
   "metadata": {},
   "outputs": [
    {
     "name": "stderr",
     "output_type": "stream",
     "text": [
      "YUG not found in ISO3\n",
      "USSR not found in regex\n",
      "USSR not found in regex\n",
      "YUG not found in ISO3\n",
      "YUG not found in ISO3\n",
      "USSR not found in regex\n",
      "YUG not found in ISO3\n",
      "USSR not found in regex\n",
      "YUG not found in ISO3\n",
      "USSR not found in regex\n",
      "YUG not found in ISO3\n",
      "USSR not found in regex\n",
      "YUG not found in ISO3\n",
      "YUG not found in ISO3\n",
      "USSR not found in regex\n",
      "YUG not found in ISO3\n",
      "USSR not found in regex\n",
      "YUG not found in ISO3\n",
      "USSR not found in regex\n",
      "USSR not found in regex\n",
      "YUG not found in ISO3\n",
      "YUG not found in ISO3\n",
      "YUG not found in ISO3\n",
      "YUG not found in ISO3\n",
      "YUG not found in ISO3\n",
      "YUG not found in ISO3\n",
      "YUG not found in ISO3\n",
      "YUG not found in ISO3\n",
      "YUG not found in ISO3\n",
      "YUG not found in ISO3\n"
     ]
    }
   ],
   "source": [
    "df.country_mem_success = df.country_mem_success.apply(lambda x : coco.convert(names=x, to='ISO2' , not_found=None) if not isinstance(x,float) else x)"
   ]
  },
  {
   "cell_type": "code",
   "execution_count": 22,
   "metadata": {},
   "outputs": [
    {
     "data": {
      "text/plain": [
       "0      151\n",
       "1       45\n",
       "2       54\n",
       "3       11\n",
       "4       46\n",
       "      ... \n",
       "456      2\n",
       "458      2\n",
       "462      3\n",
       "463      2\n",
       "465      3\n",
       "Name: country_mem_success, Length: 226, dtype: int64"
      ]
     },
     "execution_count": 22,
     "metadata": {},
     "output_type": "execute_result"
    }
   ],
   "source": [
    "df.country_mem_success[~df.country_mem_success.isna()].apply(len)"
   ]
  },
  {
   "cell_type": "markdown",
   "metadata": {},
   "source": [
    "### Line Chart data create"
   ]
  },
  {
   "cell_type": "code",
   "execution_count": 23,
   "metadata": {},
   "outputs": [],
   "source": [
    "df_temp = df_mem.groupby(['peakid', 'myear']).agg({'membid' : 'count','msuccess' : 'sum','death' : 'sum'})"
   ]
  },
  {
   "cell_type": "code",
   "execution_count": 24,
   "metadata": {},
   "outputs": [],
   "source": [
    "df_temp = df_temp.reset_index().sort_values([\"peakid\", 'myear'], ascending=[True,True]).groupby(['peakid' ]).agg(list).rename(columns={\"myear\" : \"lineX\", \"membid\" : \"lineY_attemps\", \"msuccess\" : \"lineY_success\", \"death\" : \"lineY_death\"} )"
   ]
  },
  {
   "cell_type": "code",
   "execution_count": 25,
   "metadata": {},
   "outputs": [],
   "source": [
    "df = pd.merge(df,df_temp, on='peakid', how=\"left\")"
   ]
  },
  {
   "cell_type": "code",
   "execution_count": 26,
   "metadata": {},
   "outputs": [
    {
     "data": {
      "text/html": [
       "<div>\n",
       "<style scoped>\n",
       "    .dataframe tbody tr th:only-of-type {\n",
       "        vertical-align: middle;\n",
       "    }\n",
       "\n",
       "    .dataframe tbody tr th {\n",
       "        vertical-align: top;\n",
       "    }\n",
       "\n",
       "    .dataframe thead th {\n",
       "        text-align: right;\n",
       "    }\n",
       "</style>\n",
       "<table border=\"1\" class=\"dataframe\">\n",
       "  <thead>\n",
       "    <tr style=\"text-align: right;\">\n",
       "      <th></th>\n",
       "      <th>peakid</th>\n",
       "      <th>pkname</th>\n",
       "      <th>pkname2</th>\n",
       "      <th>location</th>\n",
       "      <th>heightm</th>\n",
       "      <th>heightf</th>\n",
       "      <th>himal</th>\n",
       "      <th>region</th>\n",
       "      <th>open</th>\n",
       "      <th>unlisted</th>\n",
       "      <th>...</th>\n",
       "      <th>country_mem_try</th>\n",
       "      <th>mo2used</th>\n",
       "      <th>most_pop_route</th>\n",
       "      <th>country_mem_success</th>\n",
       "      <th>count_mem_success_female</th>\n",
       "      <th>count_mem_success</th>\n",
       "      <th>lineX</th>\n",
       "      <th>lineY_attemps</th>\n",
       "      <th>lineY_success</th>\n",
       "      <th>lineY_death</th>\n",
       "    </tr>\n",
       "  </thead>\n",
       "  <tbody>\n",
       "    <tr>\n",
       "      <th>0</th>\n",
       "      <td>EVER</td>\n",
       "      <td>Everest</td>\n",
       "      <td>Sagarmatha, Chomolungma, Qomolungma</td>\n",
       "      <td>Khumbu Himal</td>\n",
       "      <td>8850</td>\n",
       "      <td>29035</td>\n",
       "      <td>12</td>\n",
       "      <td>2</td>\n",
       "      <td>True</td>\n",
       "      <td>False</td>\n",
       "      <td>...</td>\n",
       "      <td>[USA, USA/Switzerland, UK, India, Nepal, Japan...</td>\n",
       "      <td>9144.0</td>\n",
       "      <td>S Col-SE Ridge</td>\n",
       "      <td>[US, IN, NP, IT, JP, GB, KR, CH, DE, PL, FR, A...</td>\n",
       "      <td>417.0</td>\n",
       "      <td>6927.0</td>\n",
       "      <td>[1921, 1922, 1924, 1933, 1934, 1935, 1936, 193...</td>\n",
       "      <td>[13, 22, 13, 43, 4, 18, 33, 23, 3, 5, 14, 46, ...</td>\n",
       "      <td>[0.0, 0.0, 0.0, 0.0, 0.0, 0.0, 0.0, 0.0, 0.0, ...</td>\n",
       "      <td>[2.0, 7.0, 4.0, 0.0, 1.0, 0.0, 0.0, 0.0, 0.0, ...</td>\n",
       "    </tr>\n",
       "    <tr>\n",
       "      <th>1</th>\n",
       "      <td>KANG</td>\n",
       "      <td>Kangchenjunga</td>\n",
       "      <td>NaN</td>\n",
       "      <td>Kangchenjunga Himal</td>\n",
       "      <td>8586</td>\n",
       "      <td>28169</td>\n",
       "      <td>9</td>\n",
       "      <td>1</td>\n",
       "      <td>True</td>\n",
       "      <td>False</td>\n",
       "      <td>...</td>\n",
       "      <td>[USA, India, France, UK, Japan, Nepal, W Germa...</td>\n",
       "      <td>246.0</td>\n",
       "      <td>SW Face</td>\n",
       "      <td>[IN, GB, JP, NP, DE, CZ, FR, IT, AT, CH, CA, P...</td>\n",
       "      <td>12.0</td>\n",
       "      <td>332.0</td>\n",
       "      <td>[1905, 1910, 1920, 1925, 1929, 1930, 1931, 193...</td>\n",
       "      <td>[9, 2, 2, 1, 15, 15, 16, 3, 1, 2, 2, 8, 17, 23...</td>\n",
       "      <td>[0.0, 0.0, 0.0, 0.0, 0.0, 0.0, 0.0, 0.0, 0.0, ...</td>\n",
       "      <td>[5.0, 0.0, 0.0, 0.0, 1.0, 1.0, 4.0, 0.0, 0.0, ...</td>\n",
       "    </tr>\n",
       "    <tr>\n",
       "      <th>2</th>\n",
       "      <td>LHOT</td>\n",
       "      <td>Lhotse</td>\n",
       "      <td>NaN</td>\n",
       "      <td>Khumbu Himal</td>\n",
       "      <td>8516</td>\n",
       "      <td>27940</td>\n",
       "      <td>12</td>\n",
       "      <td>2</td>\n",
       "      <td>True</td>\n",
       "      <td>False</td>\n",
       "      <td>...</td>\n",
       "      <td>[USA, USA/Switzerland, Austria, Switzerland, W...</td>\n",
       "      <td>551.0</td>\n",
       "      <td>W Face</td>\n",
       "      <td>[CH, DE, AT, NP, PL, BG, JP, IT, CZ, YUG, KR, ...</td>\n",
       "      <td>44.0</td>\n",
       "      <td>603.0</td>\n",
       "      <td>[1955, 1956, 1972, 1973, 1974, 1975, 1976, 197...</td>\n",
       "      <td>[11, 12, 3, 9, 22, 16, 21, 14, 1, 36, 33, 47, ...</td>\n",
       "      <td>[0.0, 2.0, 0.0, 0.0, 0.0, 0.0, 0.0, 10.0, 0.0,...</td>\n",
       "      <td>[0.0, 0.0, 0.0, 0.0, 1.0, 0.0, 0.0, 1.0, 0.0, ...</td>\n",
       "    </tr>\n",
       "    <tr>\n",
       "      <th>3</th>\n",
       "      <td>YALU</td>\n",
       "      <td>Yalung Kang</td>\n",
       "      <td>Yalungkar</td>\n",
       "      <td>Kangchenjunga Himal (W summit of Kangchenjunga)</td>\n",
       "      <td>8505</td>\n",
       "      <td>27904</td>\n",
       "      <td>9</td>\n",
       "      <td>1</td>\n",
       "      <td>True</td>\n",
       "      <td>False</td>\n",
       "      <td>...</td>\n",
       "      <td>[Japan, Austria, W Germany, Spain, Mexico, Aus...</td>\n",
       "      <td>53.0</td>\n",
       "      <td>SE Face</td>\n",
       "      <td>[JP, DE, AT, MX, PL, FR, YUG, ES, KR, NP, USSR]</td>\n",
       "      <td>1.0</td>\n",
       "      <td>53.0</td>\n",
       "      <td>[1973, 1974, 1975, 1978, 1980, 1981, 1984, 198...</td>\n",
       "      <td>[16, 13, 12, 14, 13, 24, 17, 16, 7, 17, 34, 6,...</td>\n",
       "      <td>[2.0, 0.0, 9.0, 0.0, 1.0, 5.0, 8.0, 2.0, 0.0, ...</td>\n",
       "      <td>[1.0, 0.0, 0.0, 0.0, 2.0, 0.0, 0.0, 1.0, 0.0, ...</td>\n",
       "    </tr>\n",
       "    <tr>\n",
       "      <th>4</th>\n",
       "      <td>MAKA</td>\n",
       "      <td>Makalu</td>\n",
       "      <td>NaN</td>\n",
       "      <td>Makalu Himal</td>\n",
       "      <td>8485</td>\n",
       "      <td>27838</td>\n",
       "      <td>14</td>\n",
       "      <td>2</td>\n",
       "      <td>True</td>\n",
       "      <td>False</td>\n",
       "      <td>...</td>\n",
       "      <td>[Japan, Yugoslavia, Czechoslovakia, Austria, W...</td>\n",
       "      <td>357.0</td>\n",
       "      <td>Makalu La-NW Ridge</td>\n",
       "      <td>[JP, YUG, CZ, ES, DE, AT, CH, NP, US, PL, KR, ...</td>\n",
       "      <td>27.0</td>\n",
       "      <td>421.0</td>\n",
       "      <td>[1954, 1955, 1961, 1969, 1970, 1971, 1972, 197...</td>\n",
       "      <td>[31, 15, 18, 5, 20, 14, 14, 22, 20, 21, 32, 21...</td>\n",
       "      <td>[0.0, 9.0, 0.0, 0.0, 2.0, 2.0, 0.0, 0.0, 0.0, ...</td>\n",
       "      <td>[1.0, 0.0, 0.0, 0.0, 0.0, 0.0, 0.0, 1.0, 0.0, ...</td>\n",
       "    </tr>\n",
       "    <tr>\n",
       "      <th>...</th>\n",
       "      <td>...</td>\n",
       "      <td>...</td>\n",
       "      <td>...</td>\n",
       "      <td>...</td>\n",
       "      <td>...</td>\n",
       "      <td>...</td>\n",
       "      <td>...</td>\n",
       "      <td>...</td>\n",
       "      <td>...</td>\n",
       "      <td>...</td>\n",
       "      <td>...</td>\n",
       "      <td>...</td>\n",
       "      <td>...</td>\n",
       "      <td>...</td>\n",
       "      <td>...</td>\n",
       "      <td>...</td>\n",
       "      <td>...</td>\n",
       "      <td>...</td>\n",
       "      <td>...</td>\n",
       "      <td>...</td>\n",
       "      <td>...</td>\n",
       "    </tr>\n",
       "    <tr>\n",
       "      <th>364</th>\n",
       "      <td>KHON</td>\n",
       "      <td>Khongma Tse</td>\n",
       "      <td>Mehra Peak</td>\n",
       "      <td>Khumbu Himal (SW of Nuptse)</td>\n",
       "      <td>5798</td>\n",
       "      <td>19022</td>\n",
       "      <td>12</td>\n",
       "      <td>2</td>\n",
       "      <td>False</td>\n",
       "      <td>False</td>\n",
       "      <td>...</td>\n",
       "      <td>NaN</td>\n",
       "      <td>NaN</td>\n",
       "      <td>NaN</td>\n",
       "      <td>NaN</td>\n",
       "      <td>NaN</td>\n",
       "      <td>NaN</td>\n",
       "      <td>NaN</td>\n",
       "      <td>NaN</td>\n",
       "      <td>NaN</td>\n",
       "      <td>NaN</td>\n",
       "    </tr>\n",
       "    <tr>\n",
       "      <th>365</th>\n",
       "      <td>POKA</td>\n",
       "      <td>Pokalde</td>\n",
       "      <td>NaN</td>\n",
       "      <td>Khumbu Himal (N of Ama Dablam)</td>\n",
       "      <td>5780</td>\n",
       "      <td>18963</td>\n",
       "      <td>12</td>\n",
       "      <td>2</td>\n",
       "      <td>False</td>\n",
       "      <td>False</td>\n",
       "      <td>...</td>\n",
       "      <td>[UK, Japan, Iran]</td>\n",
       "      <td>0.0</td>\n",
       "      <td>Kongma La-N Ridge</td>\n",
       "      <td>[GB, JP]</td>\n",
       "      <td>0.0</td>\n",
       "      <td>12.0</td>\n",
       "      <td>[1953, 1954, 1970, 1973, 1976]</td>\n",
       "      <td>[4, 6, 1, 1, 4]</td>\n",
       "      <td>[3.0, 5.0, 1.0, 0.0, 3.0]</td>\n",
       "      <td>[0.0, 0.0, 0.0, 0.0, 0.0]</td>\n",
       "    </tr>\n",
       "    <tr>\n",
       "      <th>366</th>\n",
       "      <td>THAR</td>\n",
       "      <td>Tharpu Chuli</td>\n",
       "      <td>Tent Peak</td>\n",
       "      <td>Annapurna Himal (Annapurna Sanctuary)</td>\n",
       "      <td>5695</td>\n",
       "      <td>18684</td>\n",
       "      <td>1</td>\n",
       "      <td>5</td>\n",
       "      <td>False</td>\n",
       "      <td>False</td>\n",
       "      <td>...</td>\n",
       "      <td>[UK, Japan, W Germany, Nepal]</td>\n",
       "      <td>0.0</td>\n",
       "      <td>[From S Annapurna Glacier, NW Ridge]</td>\n",
       "      <td>[JP, DE, NP]</td>\n",
       "      <td>0.0</td>\n",
       "      <td>5.0</td>\n",
       "      <td>[1956, 1964, 1965]</td>\n",
       "      <td>[1, 3, 3]</td>\n",
       "      <td>[0.0, 2.0, 3.0]</td>\n",
       "      <td>[0.0, 0.0, 0.0]</td>\n",
       "    </tr>\n",
       "    <tr>\n",
       "      <th>367</th>\n",
       "      <td>AMPG</td>\n",
       "      <td>Amphu Gyabjen</td>\n",
       "      <td>NaN</td>\n",
       "      <td>Khumbu Himal (N of Ama Dablam)</td>\n",
       "      <td>5630</td>\n",
       "      <td>18471</td>\n",
       "      <td>12</td>\n",
       "      <td>2</td>\n",
       "      <td>True</td>\n",
       "      <td>False</td>\n",
       "      <td>...</td>\n",
       "      <td>[UK, Nepal]</td>\n",
       "      <td>4.0</td>\n",
       "      <td>S Ridge</td>\n",
       "      <td>[GB, NP]</td>\n",
       "      <td>1.0</td>\n",
       "      <td>10.0</td>\n",
       "      <td>[1953, 1959, 2010]</td>\n",
       "      <td>[4, 6, 3]</td>\n",
       "      <td>[4.0, 6.0, 0.0]</td>\n",
       "      <td>[0.0, 0.0, 0.0]</td>\n",
       "    </tr>\n",
       "    <tr>\n",
       "      <th>368</th>\n",
       "      <td>MARD</td>\n",
       "      <td>Mardi Himal</td>\n",
       "      <td>NaN</td>\n",
       "      <td>Annapurna Himal (SW of Machhapuchhare)</td>\n",
       "      <td>5553</td>\n",
       "      <td>18219</td>\n",
       "      <td>1</td>\n",
       "      <td>5</td>\n",
       "      <td>False</td>\n",
       "      <td>False</td>\n",
       "      <td>...</td>\n",
       "      <td>[New Zealand, UK, Nepal]</td>\n",
       "      <td>0.0</td>\n",
       "      <td>NE Ridge</td>\n",
       "      <td>[NZ, GB, NP]</td>\n",
       "      <td>0.0</td>\n",
       "      <td>6.0</td>\n",
       "      <td>[1962, 1967, 1980]</td>\n",
       "      <td>[3, 1, 2]</td>\n",
       "      <td>[3.0, 1.0, 2.0]</td>\n",
       "      <td>[0.0, 0.0, 1.0]</td>\n",
       "    </tr>\n",
       "  </tbody>\n",
       "</table>\n",
       "<p>369 rows × 40 columns</p>\n",
       "</div>"
      ],
      "text/plain": [
       "    peakid         pkname                              pkname2  \\\n",
       "0     EVER        Everest  Sagarmatha, Chomolungma, Qomolungma   \n",
       "1     KANG  Kangchenjunga                                  NaN   \n",
       "2     LHOT         Lhotse                                  NaN   \n",
       "3     YALU    Yalung Kang                            Yalungkar   \n",
       "4     MAKA         Makalu                                  NaN   \n",
       "..     ...            ...                                  ...   \n",
       "364   KHON    Khongma Tse                           Mehra Peak   \n",
       "365   POKA        Pokalde                                  NaN   \n",
       "366   THAR   Tharpu Chuli                            Tent Peak   \n",
       "367   AMPG  Amphu Gyabjen                                  NaN   \n",
       "368   MARD    Mardi Himal                                  NaN   \n",
       "\n",
       "                                            location  heightm  heightf  himal  \\\n",
       "0                                       Khumbu Himal     8850    29035     12   \n",
       "1                                Kangchenjunga Himal     8586    28169      9   \n",
       "2                                       Khumbu Himal     8516    27940     12   \n",
       "3    Kangchenjunga Himal (W summit of Kangchenjunga)     8505    27904      9   \n",
       "4                                       Makalu Himal     8485    27838     14   \n",
       "..                                               ...      ...      ...    ...   \n",
       "364                      Khumbu Himal (SW of Nuptse)     5798    19022     12   \n",
       "365                   Khumbu Himal (N of Ama Dablam)     5780    18963     12   \n",
       "366            Annapurna Himal (Annapurna Sanctuary)     5695    18684      1   \n",
       "367                   Khumbu Himal (N of Ama Dablam)     5630    18471     12   \n",
       "368           Annapurna Himal (SW of Machhapuchhare)     5553    18219      1   \n",
       "\n",
       "     region   open  unlisted  ...  \\\n",
       "0         2   True     False  ...   \n",
       "1         1   True     False  ...   \n",
       "2         2   True     False  ...   \n",
       "3         1   True     False  ...   \n",
       "4         2   True     False  ...   \n",
       "..      ...    ...       ...  ...   \n",
       "364       2  False     False  ...   \n",
       "365       2  False     False  ...   \n",
       "366       5  False     False  ...   \n",
       "367       2   True     False  ...   \n",
       "368       5  False     False  ...   \n",
       "\n",
       "                                       country_mem_try  mo2used  \\\n",
       "0    [USA, USA/Switzerland, UK, India, Nepal, Japan...   9144.0   \n",
       "1    [USA, India, France, UK, Japan, Nepal, W Germa...    246.0   \n",
       "2    [USA, USA/Switzerland, Austria, Switzerland, W...    551.0   \n",
       "3    [Japan, Austria, W Germany, Spain, Mexico, Aus...     53.0   \n",
       "4    [Japan, Yugoslavia, Czechoslovakia, Austria, W...    357.0   \n",
       "..                                                 ...      ...   \n",
       "364                                                NaN      NaN   \n",
       "365                                  [UK, Japan, Iran]      0.0   \n",
       "366                      [UK, Japan, W Germany, Nepal]      0.0   \n",
       "367                                        [UK, Nepal]      4.0   \n",
       "368                           [New Zealand, UK, Nepal]      0.0   \n",
       "\n",
       "                           most_pop_route  \\\n",
       "0                          S Col-SE Ridge   \n",
       "1                                 SW Face   \n",
       "2                                  W Face   \n",
       "3                                 SE Face   \n",
       "4                      Makalu La-NW Ridge   \n",
       "..                                    ...   \n",
       "364                                   NaN   \n",
       "365                     Kongma La-N Ridge   \n",
       "366  [From S Annapurna Glacier, NW Ridge]   \n",
       "367                               S Ridge   \n",
       "368                              NE Ridge   \n",
       "\n",
       "                                   country_mem_success  \\\n",
       "0    [US, IN, NP, IT, JP, GB, KR, CH, DE, PL, FR, A...   \n",
       "1    [IN, GB, JP, NP, DE, CZ, FR, IT, AT, CH, CA, P...   \n",
       "2    [CH, DE, AT, NP, PL, BG, JP, IT, CZ, YUG, KR, ...   \n",
       "3      [JP, DE, AT, MX, PL, FR, YUG, ES, KR, NP, USSR]   \n",
       "4    [JP, YUG, CZ, ES, DE, AT, CH, NP, US, PL, KR, ...   \n",
       "..                                                 ...   \n",
       "364                                                NaN   \n",
       "365                                           [GB, JP]   \n",
       "366                                       [JP, DE, NP]   \n",
       "367                                           [GB, NP]   \n",
       "368                                       [NZ, GB, NP]   \n",
       "\n",
       "     count_mem_success_female  count_mem_success  \\\n",
       "0                       417.0             6927.0   \n",
       "1                        12.0              332.0   \n",
       "2                        44.0              603.0   \n",
       "3                         1.0               53.0   \n",
       "4                        27.0              421.0   \n",
       "..                        ...                ...   \n",
       "364                       NaN                NaN   \n",
       "365                       0.0               12.0   \n",
       "366                       0.0                5.0   \n",
       "367                       1.0               10.0   \n",
       "368                       0.0                6.0   \n",
       "\n",
       "                                                 lineX  \\\n",
       "0    [1921, 1922, 1924, 1933, 1934, 1935, 1936, 193...   \n",
       "1    [1905, 1910, 1920, 1925, 1929, 1930, 1931, 193...   \n",
       "2    [1955, 1956, 1972, 1973, 1974, 1975, 1976, 197...   \n",
       "3    [1973, 1974, 1975, 1978, 1980, 1981, 1984, 198...   \n",
       "4    [1954, 1955, 1961, 1969, 1970, 1971, 1972, 197...   \n",
       "..                                                 ...   \n",
       "364                                                NaN   \n",
       "365                     [1953, 1954, 1970, 1973, 1976]   \n",
       "366                                 [1956, 1964, 1965]   \n",
       "367                                 [1953, 1959, 2010]   \n",
       "368                                 [1962, 1967, 1980]   \n",
       "\n",
       "                                         lineY_attemps  \\\n",
       "0    [13, 22, 13, 43, 4, 18, 33, 23, 3, 5, 14, 46, ...   \n",
       "1    [9, 2, 2, 1, 15, 15, 16, 3, 1, 2, 2, 8, 17, 23...   \n",
       "2    [11, 12, 3, 9, 22, 16, 21, 14, 1, 36, 33, 47, ...   \n",
       "3    [16, 13, 12, 14, 13, 24, 17, 16, 7, 17, 34, 6,...   \n",
       "4    [31, 15, 18, 5, 20, 14, 14, 22, 20, 21, 32, 21...   \n",
       "..                                                 ...   \n",
       "364                                                NaN   \n",
       "365                                    [4, 6, 1, 1, 4]   \n",
       "366                                          [1, 3, 3]   \n",
       "367                                          [4, 6, 3]   \n",
       "368                                          [3, 1, 2]   \n",
       "\n",
       "                                         lineY_success  \\\n",
       "0    [0.0, 0.0, 0.0, 0.0, 0.0, 0.0, 0.0, 0.0, 0.0, ...   \n",
       "1    [0.0, 0.0, 0.0, 0.0, 0.0, 0.0, 0.0, 0.0, 0.0, ...   \n",
       "2    [0.0, 2.0, 0.0, 0.0, 0.0, 0.0, 0.0, 10.0, 0.0,...   \n",
       "3    [2.0, 0.0, 9.0, 0.0, 1.0, 5.0, 8.0, 2.0, 0.0, ...   \n",
       "4    [0.0, 9.0, 0.0, 0.0, 2.0, 2.0, 0.0, 0.0, 0.0, ...   \n",
       "..                                                 ...   \n",
       "364                                                NaN   \n",
       "365                          [3.0, 5.0, 1.0, 0.0, 3.0]   \n",
       "366                                    [0.0, 2.0, 3.0]   \n",
       "367                                    [4.0, 6.0, 0.0]   \n",
       "368                                    [3.0, 1.0, 2.0]   \n",
       "\n",
       "                                           lineY_death  \n",
       "0    [2.0, 7.0, 4.0, 0.0, 1.0, 0.0, 0.0, 0.0, 0.0, ...  \n",
       "1    [5.0, 0.0, 0.0, 0.0, 1.0, 1.0, 4.0, 0.0, 0.0, ...  \n",
       "2    [0.0, 0.0, 0.0, 0.0, 1.0, 0.0, 0.0, 1.0, 0.0, ...  \n",
       "3    [1.0, 0.0, 0.0, 0.0, 2.0, 0.0, 0.0, 1.0, 0.0, ...  \n",
       "4    [1.0, 0.0, 0.0, 0.0, 0.0, 0.0, 0.0, 1.0, 0.0, ...  \n",
       "..                                                 ...  \n",
       "364                                                NaN  \n",
       "365                          [0.0, 0.0, 0.0, 0.0, 0.0]  \n",
       "366                                    [0.0, 0.0, 0.0]  \n",
       "367                                    [0.0, 0.0, 0.0]  \n",
       "368                                    [0.0, 0.0, 1.0]  \n",
       "\n",
       "[369 rows x 40 columns]"
      ]
     },
     "execution_count": 26,
     "metadata": {},
     "output_type": "execute_result"
    }
   ],
   "source": [
    "df"
   ]
  },
  {
   "cell_type": "code",
   "execution_count": null,
   "metadata": {},
   "outputs": [],
   "source": []
  },
  {
   "cell_type": "code",
   "execution_count": null,
   "metadata": {},
   "outputs": [],
   "source": []
  },
  {
   "cell_type": "code",
   "execution_count": null,
   "metadata": {},
   "outputs": [],
   "source": []
  },
  {
   "cell_type": "code",
   "execution_count": null,
   "metadata": {},
   "outputs": [],
   "source": []
  },
  {
   "cell_type": "code",
   "execution_count": null,
   "metadata": {},
   "outputs": [],
   "source": []
  },
  {
   "cell_type": "code",
   "execution_count": 27,
   "metadata": {},
   "outputs": [],
   "source": [
    "df.to_json(\"./Himalayan Database/GeoData/peaks2.json\", orient='records')"
   ]
  },
  {
   "cell_type": "code",
   "execution_count": 28,
   "metadata": {},
   "outputs": [],
   "source": [
    "df.to_csv(\"./Himalayan Database/GeoData/peaks2.csv\")"
   ]
  },
  {
   "cell_type": "code",
   "execution_count": 32,
   "metadata": {},
   "outputs": [],
   "source": [
    "df['value'] = df.apply(lambda x : [x.lat,x.lng, x.peakid], axis=1)\n",
    "df['text'] = df.pkname + \" - \" + df.heightm.astype(\"str\") + \"m\""
   ]
  },
  {
   "cell_type": "code",
   "execution_count": 34,
   "metadata": {},
   "outputs": [],
   "source": [
    "df[['value', 'text']].to_json(\"./assets/data/peaks_search.json\" ,orient=\"records\")"
   ]
  },
  {
   "cell_type": "code",
   "execution_count": null,
   "metadata": {},
   "outputs": [],
   "source": []
  },
  {
   "cell_type": "code",
   "execution_count": null,
   "metadata": {},
   "outputs": [],
   "source": []
  },
  {
   "cell_type": "code",
   "execution_count": 31,
   "metadata": {},
   "outputs": [
    {
     "ename": "NameError",
     "evalue": "name 'data' is not defined",
     "output_type": "error",
     "traceback": [
      "\u001b[1;31m---------------------------------------------------------------------------\u001b[0m",
      "\u001b[1;31mNameError\u001b[0m                                 Traceback (most recent call last)",
      "\u001b[1;32m<ipython-input-31-fb2954975add>\u001b[0m in \u001b[0;36m<module>\u001b[1;34m\u001b[0m\n\u001b[0;32m      9\u001b[0m             },\n\u001b[0;32m     10\u001b[0m         \u001b[1;34m\"properties\"\u001b[0m \u001b[1;33m:\u001b[0m \u001b[0md\u001b[0m\u001b[1;33m,\u001b[0m\u001b[1;33m\u001b[0m\u001b[1;33m\u001b[0m\u001b[0m\n\u001b[1;32m---> 11\u001b[1;33m      } for d in data]\n\u001b[0m\u001b[0;32m     12\u001b[0m }\n",
      "\u001b[1;31mNameError\u001b[0m: name 'data' is not defined"
     ]
    }
   ],
   "source": [
    "geojson = {\n",
    "    \"type\": \"FeatureCollection\",\n",
    "    \"features\": [\n",
    "    {\n",
    "        \"type\": \"Feature\",\n",
    "        \"geometry\" : {\n",
    "            \"type\": \"Point\",\n",
    "            \"coordinates\": [d[\"lon\"], d[\"lat\"]],\n",
    "            },\n",
    "        \"properties\" : d,\n",
    "     } for d in data]\n",
    "}"
   ]
  },
  {
   "cell_type": "code",
   "execution_count": null,
   "metadata": {},
   "outputs": [],
   "source": [
    "df.to_dict(orient=\"records\")"
   ]
  },
  {
   "cell_type": "code",
   "execution_count": null,
   "metadata": {},
   "outputs": [],
   "source": [
    " \n",
    "    "
   ]
  },
  {
   "cell_type": "code",
   "execution_count": null,
   "metadata": {},
   "outputs": [],
   "source": []
  },
  {
   "cell_type": "code",
   "execution_count": null,
   "metadata": {},
   "outputs": [],
   "source": []
  },
  {
   "cell_type": "code",
   "execution_count": null,
   "metadata": {},
   "outputs": [],
   "source": []
  },
  {
   "cell_type": "code",
   "execution_count": null,
   "metadata": {},
   "outputs": [],
   "source": []
  },
  {
   "cell_type": "code",
   "execution_count": null,
   "metadata": {},
   "outputs": [],
   "source": []
  },
  {
   "cell_type": "code",
   "execution_count": null,
   "metadata": {},
   "outputs": [],
   "source": []
  },
  {
   "cell_type": "code",
   "execution_count": null,
   "metadata": {},
   "outputs": [],
   "source": []
  },
  {
   "cell_type": "code",
   "execution_count": null,
   "metadata": {},
   "outputs": [],
   "source": []
  },
  {
   "cell_type": "code",
   "execution_count": null,
   "metadata": {},
   "outputs": [],
   "source": []
  },
  {
   "cell_type": "code",
   "execution_count": null,
   "metadata": {},
   "outputs": [],
   "source": []
  },
  {
   "cell_type": "code",
   "execution_count": null,
   "metadata": {},
   "outputs": [],
   "source": []
  },
  {
   "cell_type": "code",
   "execution_count": null,
   "metadata": {},
   "outputs": [],
   "source": []
  }
 ],
 "metadata": {
  "kernelspec": {
   "display_name": "Python 3",
   "language": "python",
   "name": "python3"
  },
  "language_info": {
   "codemirror_mode": {
    "name": "ipython",
    "version": 3
   },
   "file_extension": ".py",
   "mimetype": "text/x-python",
   "name": "python",
   "nbconvert_exporter": "python",
   "pygments_lexer": "ipython3",
   "version": "3.8.3"
  }
 },
 "nbformat": 4,
 "nbformat_minor": 4
}
