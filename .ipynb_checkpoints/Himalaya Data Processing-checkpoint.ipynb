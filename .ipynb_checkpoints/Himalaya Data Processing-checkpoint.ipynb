{
 "cells": [
  {
   "cell_type": "code",
   "execution_count": 1,
   "metadata": {},
   "outputs": [],
   "source": [
    "import pandas as pd\n",
    "import numpy as np"
   ]
  },
  {
   "cell_type": "markdown",
   "metadata": {},
   "source": [
    "#### Data Source\n",
    "https://www.himalayandatabase.com/index.html\n",
    "\n",
    "##### Guide\n",
    "https://www.himalayandatabase.com/downloads/HD%20Online%20Guide.pdf"
   ]
  },
  {
   "cell_type": "code",
   "execution_count": 13,
   "metadata": {},
   "outputs": [
    {
     "name": "stderr",
     "output_type": "stream",
     "text": [
      "C:\\Users\\botiv\\anaconda3\\lib\\site-packages\\IPython\\core\\interactiveshell.py:3071: DtypeWarning: Columns (8,18,19) have mixed types.Specify dtype option on import or set low_memory=False.\n",
      "  has_raised = await self.run_ast_nodes(code_ast.body, cell_name,\n",
      "C:\\Users\\botiv\\anaconda3\\lib\\site-packages\\IPython\\core\\interactiveshell.py:3071: DtypeWarning: Columns (70) have mixed types.Specify dtype option on import or set low_memory=False.\n",
      "  has_raised = await self.run_ast_nodes(code_ast.body, cell_name,\n"
     ]
    }
   ],
   "source": [
    "df_peaks = pd.read_csv(\"./Himalayan Database/RawData/peaksall.csv\")\n",
    "df_ex = pd.read_csv(\"./Himalayan Database/RawData/expeditions.csv\")\n",
    "df_mem = pd.read_csv(\"./Himalayan Database/RawData/members.csv\")"
   ]
  },
  {
   "cell_type": "code",
   "execution_count": 14,
   "metadata": {},
   "outputs": [
    {
     "data": {
      "text/plain": [
       "Index(['expid', 'membid', 'peakid', 'myear', 'mseason', 'fname', 'lname',\n",
       "       'sex', 'age', 'birthdate', 'yob', 'calcage', 'citizen', 'status',\n",
       "       'residence', 'occupation', 'leader', 'deputy', 'bconly', 'nottobc',\n",
       "       'support', 'disabled', 'hired', 'sherpa', 'tibetan', 'msuccess',\n",
       "       'mclaimed', 'mdisputed', 'msolo', 'mtraverse', 'mski', 'mparapente',\n",
       "       'mspeed', 'mhighpt', 'mperhighpt', 'msmtdate1', 'msmtdate2',\n",
       "       'msmtdate3', 'msmttime1', 'msmttime2', 'msmttime3', 'mroute1',\n",
       "       'mroute2', 'mroute3', 'mascent1', 'mascent2', 'mascent3', 'mo2used',\n",
       "       'mo2none', 'mo2climb', 'mo2descent', 'mo2sleep', 'mo2medical',\n",
       "       'mo2note', 'death', 'deathdate', 'deathtime', 'deathtype', 'deathhgtm',\n",
       "       'deathclass', 'msmtbid', 'msmtterm', 'hcn', 'mchksum', 'host', 'comrte',\n",
       "       'stdrte', 'route1', 'route2', 'route3', 'route4', 'nation', 'leaders',\n",
       "       'sponsor', 'termreason', 'totmembers', 'smtmembers', 'mdeaths',\n",
       "       'tothired', 'nohired', 'smthired', 'hdeaths', 'bcdate', 'pkname',\n",
       "       'heightm'],\n",
       "      dtype='object')"
      ]
     },
     "execution_count": 14,
     "metadata": {},
     "output_type": "execute_result"
    }
   ],
   "source": [
    "df_mem.columns"
   ]
  },
  {
   "cell_type": "markdown",
   "metadata": {},
   "source": [
    "### Countries"
   ]
  },
  {
   "cell_type": "code",
   "execution_count": 15,
   "metadata": {
    "scrolled": true
   },
   "outputs": [
    {
     "name": "stdout",
     "output_type": "stream",
     "text": [
      "['Qatar', 'S Africa', 'Norway', 'Macedonia', 'Turkmenistan', 'Nepal', 'Sweden', 'Australia', 'Iceland', 'Croatia', 'Yugoslavia', 'Mexico', 'Tanzania', 'Denmark', 'Slovakia', 'Bahrain', 'Sri Lanka', 'Morocco', 'Czechoslovakia', 'Spain', 'Mongolia', 'Georgia', 'Peru', 'Poland', 'Switzerland', 'Taiwan', 'Guatemala', 'Kuwait', 'Israel', 'Egypt', 'Kazakhstan', 'Pakistan', 'Romania', 'Hong Kong', 'UAE', 'Cyprus', 'Panama', 'Ukraine', 'Kenya', 'Hungary', 'Costa Rica', 'Kyrgyz Republic', 'Palestine', 'Jamaica', 'Vietnam', 'Greece', 'Portugal', 'Colombia', 'UK', 'Italy', 'Moldova', 'Zambia', 'Indonesia', 'Azerbaijan', 'Finland', 'Singapore', 'Jordan', 'Bosnia-Herzegovina', 'Andorra', 'Czech Republic', 'Serbia', 'India?', 'Turkey', 'Ecuador', 'New Zealand', 'Netherlands', 'W Germany', 'Argentina', 'Oman', 'Tunisia', 'Iran', 'Armenia', 'Russia', 'Uzbekistan', 'Bulgaria', 'India', 'Algeria', 'Saudi Arabia', 'Brazil', 'Canada', 'Montenegro', 'Belgium', 'Mauritius', 'N Korea', 'S Korea', 'Albania', 'Uruguay', 'Malaysia', 'San Marino', 'Bangladesh', 'Lithuania', 'Bolivia', 'Germany', 'Myanmar', 'Philippines', 'Thailand', 'Latvia', 'France', 'Bhutan', 'Lebanon', 'China', 'Belarus', 'Liechtenstein', 'Luxembourg', 'Venezuela', 'USA', 'Japan', 'Ireland', 'Estonia', 'USSR', 'Austria', 'Dominican Republic', 'Malta', 'Slovenia', 'Chile']\n"
     ]
    }
   ],
   "source": [
    "print(list(set((\"/\").join(df_mem.citizen.dropna().unique()).split(\"/\"))))"
   ]
  },
  {
   "cell_type": "code",
   "execution_count": 16,
   "metadata": {},
   "outputs": [],
   "source": [
    "##df_mem.citizen.apply(lambda x : coco.convert(names=x, to='ISO2') if manual_map.get(x) == None  else manual_map.get(x))"
   ]
  },
  {
   "cell_type": "markdown",
   "metadata": {},
   "source": [
    "### Get Members ready to join"
   ]
  },
  {
   "cell_type": "code",
   "execution_count": 17,
   "metadata": {},
   "outputs": [],
   "source": [
    "df_mem['female']  = df_mem.sex.apply(lambda x : True if x==\"F\" else False)"
   ]
  },
  {
   "cell_type": "code",
   "execution_count": 18,
   "metadata": {},
   "outputs": [],
   "source": [
    "## Clean age column\n",
    "df_mem.calcage = df_mem.calcage.apply(lambda x : np.nan if x==0 else x)"
   ]
  },
  {
   "cell_type": "code",
   "execution_count": 19,
   "metadata": {},
   "outputs": [
    {
     "data": {
      "text/plain": [
       "False    65521\n",
       "True        13\n",
       "Name: mspeed, dtype: int64"
      ]
     },
     "execution_count": 19,
     "metadata": {},
     "output_type": "execute_result"
    }
   ],
   "source": [
    "df_mem.mspeed.value_counts()"
   ]
  },
  {
   "cell_type": "code",
   "execution_count": 20,
   "metadata": {},
   "outputs": [],
   "source": [
    "gdf_mem = df_mem.groupby('peakid').agg({'expid' : 'count' ,'death' : 'sum', 'female' : 'sum', 'calcage' : 'mean', 'citizen' : 'unique','mo2used' : 'sum', \"route1\" : pd.Series.mode})"
   ]
  },
  {
   "cell_type": "markdown",
   "metadata": {},
   "source": [
    "#### Grouby only the succeeding members"
   ]
  },
  {
   "cell_type": "code",
   "execution_count": 21,
   "metadata": {},
   "outputs": [],
   "source": [
    "gdf_mem_success = df_mem[df_mem.msuccess == True].groupby('peakid').agg({'citizen' : 'unique', 'female' : 'sum','expid' : 'count' })"
   ]
  },
  {
   "cell_type": "code",
   "execution_count": 22,
   "metadata": {},
   "outputs": [
    {
     "data": {
      "text/html": [
       "<div>\n",
       "<style scoped>\n",
       "    .dataframe tbody tr th:only-of-type {\n",
       "        vertical-align: middle;\n",
       "    }\n",
       "\n",
       "    .dataframe tbody tr th {\n",
       "        vertical-align: top;\n",
       "    }\n",
       "\n",
       "    .dataframe thead th {\n",
       "        text-align: right;\n",
       "    }\n",
       "</style>\n",
       "<table border=\"1\" class=\"dataframe\">\n",
       "  <thead>\n",
       "    <tr style=\"text-align: right;\">\n",
       "      <th></th>\n",
       "      <th>citizen</th>\n",
       "      <th>female</th>\n",
       "      <th>expid</th>\n",
       "    </tr>\n",
       "    <tr>\n",
       "      <th>peakid</th>\n",
       "      <th></th>\n",
       "      <th></th>\n",
       "      <th></th>\n",
       "    </tr>\n",
       "  </thead>\n",
       "  <tbody>\n",
       "    <tr>\n",
       "      <th>ACHN</th>\n",
       "      <td>[France, Nepal, Japan]</td>\n",
       "      <td>1.0</td>\n",
       "      <td>11</td>\n",
       "    </tr>\n",
       "    <tr>\n",
       "      <th>AMAD</th>\n",
       "      <td>[W Germany, USA, Nepal, France, New Zealand, J...</td>\n",
       "      <td>322.0</td>\n",
       "      <td>3540</td>\n",
       "    </tr>\n",
       "    <tr>\n",
       "      <th>AMPG</th>\n",
       "      <td>[UK, Nepal]</td>\n",
       "      <td>1.0</td>\n",
       "      <td>10</td>\n",
       "    </tr>\n",
       "    <tr>\n",
       "      <th>AMPH</th>\n",
       "      <td>[S Korea]</td>\n",
       "      <td>1.0</td>\n",
       "      <td>3</td>\n",
       "    </tr>\n",
       "    <tr>\n",
       "      <th>AMPM</th>\n",
       "      <td>[Germany]</td>\n",
       "      <td>1.0</td>\n",
       "      <td>5</td>\n",
       "    </tr>\n",
       "    <tr>\n",
       "      <th>...</th>\n",
       "      <td>...</td>\n",
       "      <td>...</td>\n",
       "      <td>...</td>\n",
       "    </tr>\n",
       "    <tr>\n",
       "      <th>URKM</th>\n",
       "      <td>[Japan, Nepal, USA, Austria, France]</td>\n",
       "      <td>3.0</td>\n",
       "      <td>23</td>\n",
       "    </tr>\n",
       "    <tr>\n",
       "      <th>URMA</th>\n",
       "      <td>[Taiwan, S Korea, Singapore, Australia, Nepal,...</td>\n",
       "      <td>11.0</td>\n",
       "      <td>52</td>\n",
       "    </tr>\n",
       "    <tr>\n",
       "      <th>YAKA</th>\n",
       "      <td>[Japan, Nepal]</td>\n",
       "      <td>0.0</td>\n",
       "      <td>4</td>\n",
       "    </tr>\n",
       "    <tr>\n",
       "      <th>YALU</th>\n",
       "      <td>[Japan, W Germany, Austria, Mexico, Poland, Fr...</td>\n",
       "      <td>1.0</td>\n",
       "      <td>53</td>\n",
       "    </tr>\n",
       "    <tr>\n",
       "      <th>YAUP</th>\n",
       "      <td>[UK, USA]</td>\n",
       "      <td>0.0</td>\n",
       "      <td>3</td>\n",
       "    </tr>\n",
       "  </tbody>\n",
       "</table>\n",
       "<p>295 rows × 3 columns</p>\n",
       "</div>"
      ],
      "text/plain": [
       "                                                  citizen  female  expid\n",
       "peakid                                                                  \n",
       "ACHN                               [France, Nepal, Japan]     1.0     11\n",
       "AMAD    [W Germany, USA, Nepal, France, New Zealand, J...   322.0   3540\n",
       "AMPG                                          [UK, Nepal]     1.0     10\n",
       "AMPH                                            [S Korea]     1.0      3\n",
       "AMPM                                            [Germany]     1.0      5\n",
       "...                                                   ...     ...    ...\n",
       "URKM                 [Japan, Nepal, USA, Austria, France]     3.0     23\n",
       "URMA    [Taiwan, S Korea, Singapore, Australia, Nepal,...    11.0     52\n",
       "YAKA                                       [Japan, Nepal]     0.0      4\n",
       "YALU    [Japan, W Germany, Austria, Mexico, Poland, Fr...     1.0     53\n",
       "YAUP                                            [UK, USA]     0.0      3\n",
       "\n",
       "[295 rows x 3 columns]"
      ]
     },
     "execution_count": 22,
     "metadata": {},
     "output_type": "execute_result"
    }
   ],
   "source": [
    "gdf_mem_success "
   ]
  },
  {
   "cell_type": "code",
   "execution_count": 23,
   "metadata": {},
   "outputs": [],
   "source": [
    "#gdf_mem.columns = ['_'.join(col).strip() for col in gdf_mem.columns.values]\n",
    "#gdf_mem_success.columns = ['_'.join(col).strip() for col in gdf_mem_success.columns.values]"
   ]
  },
  {
   "cell_type": "code",
   "execution_count": 24,
   "metadata": {},
   "outputs": [],
   "source": [
    "## Rename columns accordingly"
   ]
  },
  {
   "cell_type": "code",
   "execution_count": 25,
   "metadata": {},
   "outputs": [],
   "source": [
    "gdf_mem.rename(columns={'expid' : 'count_mem_try', \"female\" :  \"count_mem_try_female\", \"calcage\" :\"mean_mem_try_age\", \"citizen\" : \"country_mem_try\", \"route1\" : \"most_pop_route\" }, inplace=True)\n",
    "gdf_mem_success.rename(columns={'expid' : 'count_mem_success', \"female\" :  \"count_mem_success_female\", \"calcage\" :\"mean_mem_success_age\", \"citizen\" : \"country_mem_success\" }, inplace=True)"
   ]
  },
  {
   "cell_type": "code",
   "execution_count": 26,
   "metadata": {},
   "outputs": [],
   "source": [
    "gdf_mem = pd.merge(gdf_mem,gdf_mem_success, on=\"peakid\", how=\"left\") "
   ]
  },
  {
   "cell_type": "code",
   "execution_count": 27,
   "metadata": {},
   "outputs": [],
   "source": [
    "gdf_mem.reset_index(inplace=True)"
   ]
  },
  {
   "cell_type": "markdown",
   "metadata": {},
   "source": [
    "### Merge with Peak data"
   ]
  },
  {
   "cell_type": "code",
   "execution_count": 28,
   "metadata": {},
   "outputs": [],
   "source": [
    "df = pd.merge(df_peaks,gdf_mem, on='peakid', how=\"left\")"
   ]
  },
  {
   "cell_type": "code",
   "execution_count": 29,
   "metadata": {},
   "outputs": [],
   "source": [
    "## WOrk with the ones with coords\n",
    "df.dropna(subset=[\"lng\"], inplace=True)"
   ]
  },
  {
   "cell_type": "markdown",
   "metadata": {},
   "source": [
    "##### Adding ISO the the countries"
   ]
  },
  {
   "cell_type": "code",
   "execution_count": 30,
   "metadata": {},
   "outputs": [],
   "source": [
    "import country_converter as coco\n",
    "\n",
    "manual_map = {\"USSR\": 'USSR', \"UK\" : \"GB\", \"UAE\" : \"AE\", \"W Germany\" : \"DE\", \"S Africa\" : \"ZA\", \"Yugoslavia\" : \"YUG\" }\n"
   ]
  },
  {
   "cell_type": "code",
   "execution_count": 31,
   "metadata": {},
   "outputs": [],
   "source": [
    "df.country_mem_success = df.country_mem_success.apply(lambda x : x if isinstance(x,float) else sum([i.split(\"/\") for i in x ], []))"
   ]
  },
  {
   "cell_type": "code",
   "execution_count": 32,
   "metadata": {},
   "outputs": [],
   "source": [
    "df.country_mem_success = df.country_mem_success.apply(lambda x : [ c if manual_map.get(c) == None else manual_map.get(c) for c in x ] if not isinstance(x,float) else x)"
   ]
  },
  {
   "cell_type": "code",
   "execution_count": 33,
   "metadata": {},
   "outputs": [
    {
     "name": "stderr",
     "output_type": "stream",
     "text": [
      "YUG not found in ISO3\n",
      "USSR not found in regex\n",
      "USSR not found in regex\n",
      "YUG not found in ISO3\n",
      "YUG not found in ISO3\n",
      "USSR not found in regex\n",
      "YUG not found in ISO3\n",
      "USSR not found in regex\n",
      "YUG not found in ISO3\n",
      "USSR not found in regex\n",
      "YUG not found in ISO3\n",
      "USSR not found in regex\n",
      "YUG not found in ISO3\n",
      "YUG not found in ISO3\n",
      "USSR not found in regex\n",
      "YUG not found in ISO3\n",
      "USSR not found in regex\n",
      "YUG not found in ISO3\n",
      "USSR not found in regex\n",
      "USSR not found in regex\n",
      "YUG not found in ISO3\n",
      "YUG not found in ISO3\n",
      "YUG not found in ISO3\n",
      "YUG not found in ISO3\n",
      "YUG not found in ISO3\n",
      "YUG not found in ISO3\n",
      "YUG not found in ISO3\n",
      "YUG not found in ISO3\n",
      "YUG not found in ISO3\n",
      "YUG not found in ISO3\n"
     ]
    }
   ],
   "source": [
    "df.country_mem_success = df.country_mem_success.apply(lambda x : coco.convert(names=x, to='ISO2' , not_found=None) if not isinstance(x,float) else x)"
   ]
  },
  {
   "cell_type": "code",
   "execution_count": 34,
   "metadata": {},
   "outputs": [
    {
     "data": {
      "text/plain": [
       "0      151\n",
       "1       45\n",
       "2       54\n",
       "3       11\n",
       "4       46\n",
       "      ... \n",
       "456      2\n",
       "458      2\n",
       "462      3\n",
       "463      2\n",
       "465      3\n",
       "Name: country_mem_success, Length: 226, dtype: int64"
      ]
     },
     "execution_count": 34,
     "metadata": {},
     "output_type": "execute_result"
    }
   ],
   "source": [
    "df.country_mem_success[~df.country_mem_success.isna()].apply(len)"
   ]
  },
  {
   "cell_type": "markdown",
   "metadata": {},
   "source": [
    "### Line Chart data create"
   ]
  },
  {
   "cell_type": "code",
   "execution_count": 35,
   "metadata": {},
   "outputs": [],
   "source": [
    "df_temp = df_mem.groupby(['peakid', 'myear']).agg({'membid' : 'count','msuccess' : 'sum','death' : 'sum'})"
   ]
  },
  {
   "cell_type": "code",
   "execution_count": 36,
   "metadata": {},
   "outputs": [],
   "source": [
    "df_temp = df_temp.reset_index().sort_values([\"peakid\", 'myear'], ascending=[True,True]).groupby(['peakid' ]).agg(list).rename(columns={\"myear\" : \"lineX\", \"membid\" : \"lineY_attemps\", \"msuccess\" : \"lineY_success\", \"death\" : \"lineY_death\"} )"
   ]
  },
  {
   "cell_type": "code",
   "execution_count": 37,
   "metadata": {},
   "outputs": [],
   "source": [
    "df = pd.merge(df,df_temp, on='peakid', how=\"left\")"
   ]
  },
  {
   "cell_type": "markdown",
   "metadata": {},
   "source": [
    "## Age data"
   ]
  },
  {
   "cell_type": "code",
   "execution_count": 38,
   "metadata": {},
   "outputs": [],
   "source": [
    "def histo_transform(x) :\n",
    "    return pd.cut(x, bins=[i *5 for i in range(21)   ],labels= [\"{0} - {1}\".format(i, i + 5) for i in range(0, 100, 5)]).value_counts().to_dict()"
   ]
  },
  {
   "cell_type": "code",
   "execution_count": 39,
   "metadata": {},
   "outputs": [],
   "source": [
    "df_temp  = df_mem.groupby(\"peakid\").agg({'calcage' : list}).rename(columns={\"calcage\" :\"age_histogram\" } )"
   ]
  },
  {
   "cell_type": "code",
   "execution_count": 40,
   "metadata": {},
   "outputs": [],
   "source": [
    "df_temp.age_histogram = df_temp.age_histogram.apply(lambda x : histo_transform(x))"
   ]
  },
  {
   "cell_type": "code",
   "execution_count": 41,
   "metadata": {},
   "outputs": [],
   "source": [
    "df = pd.merge(df,df_temp, on='peakid', how=\"left\")"
   ]
  },
  {
   "cell_type": "code",
   "execution_count": null,
   "metadata": {},
   "outputs": [],
   "source": []
  },
  {
   "cell_type": "markdown",
   "metadata": {},
   "source": [
    "# Filter out the unattempted peaks"
   ]
  },
  {
   "cell_type": "code",
   "execution_count": 47,
   "metadata": {},
   "outputs": [],
   "source": [
    "df = df[~df.count_mem_try.isna()]"
   ]
  },
  {
   "cell_type": "code",
   "execution_count": 48,
   "metadata": {},
   "outputs": [],
   "source": [
    "df.to_json(\"./Himalayan Database/GeoData/peaks2.json\", orient='records')"
   ]
  },
  {
   "cell_type": "code",
   "execution_count": 49,
   "metadata": {},
   "outputs": [],
   "source": [
    "df.to_csv(\"./Himalayan Database/GeoData/peaks2.csv\")"
   ]
  },
  {
   "cell_type": "code",
   "execution_count": 50,
   "metadata": {},
   "outputs": [
    {
     "name": "stderr",
     "output_type": "stream",
     "text": [
      "<ipython-input-50-9e3c8a084866>:1: SettingWithCopyWarning: \n",
      "A value is trying to be set on a copy of a slice from a DataFrame.\n",
      "Try using .loc[row_indexer,col_indexer] = value instead\n",
      "\n",
      "See the caveats in the documentation: https://pandas.pydata.org/pandas-docs/stable/user_guide/indexing.html#returning-a-view-versus-a-copy\n",
      "  df['value'] = df.apply(lambda x : [x.lat,x.lng, x.peakid], axis=1)\n",
      "<ipython-input-50-9e3c8a084866>:2: SettingWithCopyWarning: \n",
      "A value is trying to be set on a copy of a slice from a DataFrame.\n",
      "Try using .loc[row_indexer,col_indexer] = value instead\n",
      "\n",
      "See the caveats in the documentation: https://pandas.pydata.org/pandas-docs/stable/user_guide/indexing.html#returning-a-view-versus-a-copy\n",
      "  df['text'] = df.pkname + \" - \" + df.heightm.astype(\"str\") + \"m\"\n"
     ]
    }
   ],
   "source": [
    "df['value'] = df.apply(lambda x : [x.lat,x.lng, x.peakid], axis=1)\n",
    "df['text'] = df.pkname + \" - \" + df.heightm.astype(\"str\") + \"m\""
   ]
  },
  {
   "cell_type": "code",
   "execution_count": 51,
   "metadata": {},
   "outputs": [],
   "source": [
    "df[['value', 'text']].to_json(\"./assets/data/peaks_search.json\" ,orient=\"records\")"
   ]
  },
  {
   "cell_type": "code",
   "execution_count": null,
   "metadata": {},
   "outputs": [],
   "source": []
  }
 ],
 "metadata": {
  "kernelspec": {
   "display_name": "Python 3",
   "language": "python",
   "name": "python3"
  },
  "language_info": {
   "codemirror_mode": {
    "name": "ipython",
    "version": 3
   },
   "file_extension": ".py",
   "mimetype": "text/x-python",
   "name": "python",
   "nbconvert_exporter": "python",
   "pygments_lexer": "ipython3",
   "version": "3.8.3"
  }
 },
 "nbformat": 4,
 "nbformat_minor": 4
}
