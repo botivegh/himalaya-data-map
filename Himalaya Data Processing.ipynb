{
 "cells": [
  {
   "cell_type": "code",
   "execution_count": 113,
   "metadata": {},
   "outputs": [],
   "source": [
    "import pandas as pd\n",
    "import numpy as np\n"
   ]
  },
  {
   "cell_type": "markdown",
   "metadata": {},
   "source": [
    "#### Data Source\n",
    "https://www.himalayandatabase.com/index.html\n",
    "\n",
    "##### Guide\n",
    "https://www.himalayandatabase.com/downloads/HD%20Online%20Guide.pdf"
   ]
  },
  {
   "cell_type": "code",
   "execution_count": 169,
   "metadata": {},
   "outputs": [
    {
     "name": "stderr",
     "output_type": "stream",
     "text": [
      "C:\\Users\\botiv\\anaconda3\\lib\\site-packages\\IPython\\core\\interactiveshell.py:3071: DtypeWarning: Columns (8,18,19) have mixed types.Specify dtype option on import or set low_memory=False.\n",
      "  has_raised = await self.run_ast_nodes(code_ast.body, cell_name,\n",
      "C:\\Users\\botiv\\anaconda3\\lib\\site-packages\\IPython\\core\\interactiveshell.py:3071: DtypeWarning: Columns (70) have mixed types.Specify dtype option on import or set low_memory=False.\n",
      "  has_raised = await self.run_ast_nodes(code_ast.body, cell_name,\n"
     ]
    }
   ],
   "source": [
    "df_peaks = pd.read_csv(\"./Himalayan Database/RawData/peaksall.csv\")\n",
    "df_ex = pd.read_csv(\"./Himalayan Database/RawData/expeditions.csv\")\n",
    "df_mem = pd.read_csv(\"./Himalayan Database/RawData/members.csv\")"
   ]
  },
  {
   "cell_type": "code",
   "execution_count": 170,
   "metadata": {},
   "outputs": [
    {
     "data": {
      "text/plain": [
       "Index(['expid', 'membid', 'peakid', 'myear', 'mseason', 'fname', 'lname',\n",
       "       'sex', 'age', 'birthdate', 'yob', 'calcage', 'citizen', 'status',\n",
       "       'residence', 'occupation', 'leader', 'deputy', 'bconly', 'nottobc',\n",
       "       'support', 'disabled', 'hired', 'sherpa', 'tibetan', 'msuccess',\n",
       "       'mclaimed', 'mdisputed', 'msolo', 'mtraverse', 'mski', 'mparapente',\n",
       "       'mspeed', 'mhighpt', 'mperhighpt', 'msmtdate1', 'msmtdate2',\n",
       "       'msmtdate3', 'msmttime1', 'msmttime2', 'msmttime3', 'mroute1',\n",
       "       'mroute2', 'mroute3', 'mascent1', 'mascent2', 'mascent3', 'mo2used',\n",
       "       'mo2none', 'mo2climb', 'mo2descent', 'mo2sleep', 'mo2medical',\n",
       "       'mo2note', 'death', 'deathdate', 'deathtime', 'deathtype', 'deathhgtm',\n",
       "       'deathclass', 'msmtbid', 'msmtterm', 'hcn', 'mchksum', 'host', 'comrte',\n",
       "       'stdrte', 'route1', 'route2', 'route3', 'route4', 'nation', 'leaders',\n",
       "       'sponsor', 'termreason', 'totmembers', 'smtmembers', 'mdeaths',\n",
       "       'tothired', 'nohired', 'smthired', 'hdeaths', 'bcdate', 'pkname',\n",
       "       'heightm'],\n",
       "      dtype='object')"
      ]
     },
     "execution_count": 170,
     "metadata": {},
     "output_type": "execute_result"
    }
   ],
   "source": [
    "df_mem.columns"
   ]
  },
  {
   "cell_type": "markdown",
   "metadata": {},
   "source": [
    "### Countries"
   ]
  },
  {
   "cell_type": "code",
   "execution_count": 171,
   "metadata": {
    "scrolled": true
   },
   "outputs": [
    {
     "name": "stdout",
     "output_type": "stream",
     "text": [
      "['Bosnia-Herzegovina', 'Netherlands', 'Oman', 'Estonia', 'Dominican Republic', 'Costa Rica', 'Russia', 'Qatar', 'Zambia', 'Peru', 'Malaysia', 'Cyprus', 'Finland', 'Montenegro', 'Tunisia', 'Lebanon', 'Ecuador', 'Turkey', 'Bangladesh', 'Malta', 'Bolivia', 'Kuwait', 'Albania', 'Bahrain', 'Kyrgyz Republic', 'Taiwan', 'Denmark', 'Pakistan', 'Serbia', 'Tanzania', 'Kazakhstan', 'Liechtenstein', 'UK', 'Saudi Arabia', 'Chile', 'Switzerland', 'Bulgaria', 'Hungary', 'Belgium', 'Brazil', 'India', 'Thailand', 'Jordan', 'UAE', 'Sri Lanka', 'Uzbekistan', 'Poland', 'Portugal', 'Vietnam', 'Latvia', 'Morocco', 'Nepal', 'Myanmar', 'Mexico', 'Norway', 'Japan', 'S Africa', 'Colombia', 'Slovakia', 'Greece', 'Ireland', 'Indonesia', 'Lithuania', 'Panama', 'Armenia', 'Moldova', 'Andorra', 'China', 'Bhutan', 'Romania', 'San Marino', 'Yugoslavia', 'Guatemala', 'Luxembourg', 'Jamaica', 'Israel', 'USSR', 'Palestine', 'France', 'Uruguay', 'Hong Kong', 'Italy', 'Germany', 'Mauritius', 'Algeria', 'Kenya', 'Belarus', 'Philippines', 'Slovenia', 'Georgia', 'W Germany', 'USA', 'Iran', 'India?', 'Venezuela', 'Iceland', 'Czechoslovakia', 'Croatia', 'Turkmenistan', 'Canada', 'Spain', 'Austria', 'N Korea', 'Singapore', 'Argentina', 'Mongolia', 'New Zealand', 'Sweden', 'Azerbaijan', 'Ukraine', 'S Korea', 'Egypt', 'Australia', 'Czech Republic', 'Macedonia']\n"
     ]
    }
   ],
   "source": [
    "print(list(set((\"/\").join(df_mem.citizen.dropna().unique()).split(\"/\"))))"
   ]
  },
  {
   "cell_type": "code",
   "execution_count": null,
   "metadata": {},
   "outputs": [],
   "source": []
  },
  {
   "cell_type": "code",
   "execution_count": 172,
   "metadata": {},
   "outputs": [],
   "source": [
    "##df_mem.citizen.apply(lambda x : coco.convert(names=x, to='ISO2') if manual_map.get(x) == None  else manual_map.get(x))"
   ]
  },
  {
   "cell_type": "code",
   "execution_count": null,
   "metadata": {},
   "outputs": [],
   "source": []
  },
  {
   "cell_type": "markdown",
   "metadata": {},
   "source": [
    "### Get Members ready to join"
   ]
  },
  {
   "cell_type": "code",
   "execution_count": 173,
   "metadata": {},
   "outputs": [],
   "source": [
    "df_mem['female']  = df_mem.sex.apply(lambda x : True if x==\"F\" else False)"
   ]
  },
  {
   "cell_type": "code",
   "execution_count": null,
   "metadata": {},
   "outputs": [],
   "source": []
  },
  {
   "cell_type": "code",
   "execution_count": 174,
   "metadata": {},
   "outputs": [
    {
     "data": {
      "text/plain": [
       "False    65521\n",
       "True        13\n",
       "Name: mspeed, dtype: int64"
      ]
     },
     "execution_count": 174,
     "metadata": {},
     "output_type": "execute_result"
    }
   ],
   "source": [
    "df_mem.mspeed.value_counts()"
   ]
  },
  {
   "cell_type": "code",
   "execution_count": 175,
   "metadata": {},
   "outputs": [],
   "source": [
    "gdf_mem = df_mem.groupby('peakid').agg({'expid' : 'count' ,'death' : 'sum', 'female' : 'sum', 'calcage' : 'mean', 'citizen' : 'unique','mo2used' : 'sum', \"route1\" : pd.Series.mode})"
   ]
  },
  {
   "cell_type": "code",
   "execution_count": null,
   "metadata": {},
   "outputs": [],
   "source": []
  },
  {
   "cell_type": "markdown",
   "metadata": {},
   "source": [
    "#### Grouby only the succeeding members"
   ]
  },
  {
   "cell_type": "code",
   "execution_count": 176,
   "metadata": {},
   "outputs": [],
   "source": [
    "gdf_mem_success = df_mem[df_mem.msuccess == True].groupby('peakid').agg({'citizen' : 'unique', 'female' : 'sum','expid' : 'count' })"
   ]
  },
  {
   "cell_type": "code",
   "execution_count": 177,
   "metadata": {},
   "outputs": [
    {
     "data": {
      "text/html": [
       "<div>\n",
       "<style scoped>\n",
       "    .dataframe tbody tr th:only-of-type {\n",
       "        vertical-align: middle;\n",
       "    }\n",
       "\n",
       "    .dataframe tbody tr th {\n",
       "        vertical-align: top;\n",
       "    }\n",
       "\n",
       "    .dataframe thead th {\n",
       "        text-align: right;\n",
       "    }\n",
       "</style>\n",
       "<table border=\"1\" class=\"dataframe\">\n",
       "  <thead>\n",
       "    <tr style=\"text-align: right;\">\n",
       "      <th></th>\n",
       "      <th>citizen</th>\n",
       "      <th>female</th>\n",
       "      <th>expid</th>\n",
       "    </tr>\n",
       "    <tr>\n",
       "      <th>peakid</th>\n",
       "      <th></th>\n",
       "      <th></th>\n",
       "      <th></th>\n",
       "    </tr>\n",
       "  </thead>\n",
       "  <tbody>\n",
       "    <tr>\n",
       "      <th>ACHN</th>\n",
       "      <td>[France, Nepal, Japan]</td>\n",
       "      <td>1.0</td>\n",
       "      <td>11</td>\n",
       "    </tr>\n",
       "    <tr>\n",
       "      <th>AMAD</th>\n",
       "      <td>[W Germany, USA, Nepal, France, New Zealand, J...</td>\n",
       "      <td>322.0</td>\n",
       "      <td>3540</td>\n",
       "    </tr>\n",
       "    <tr>\n",
       "      <th>AMPG</th>\n",
       "      <td>[UK, Nepal]</td>\n",
       "      <td>1.0</td>\n",
       "      <td>10</td>\n",
       "    </tr>\n",
       "    <tr>\n",
       "      <th>AMPH</th>\n",
       "      <td>[S Korea]</td>\n",
       "      <td>1.0</td>\n",
       "      <td>3</td>\n",
       "    </tr>\n",
       "    <tr>\n",
       "      <th>AMPM</th>\n",
       "      <td>[Germany]</td>\n",
       "      <td>1.0</td>\n",
       "      <td>5</td>\n",
       "    </tr>\n",
       "    <tr>\n",
       "      <th>...</th>\n",
       "      <td>...</td>\n",
       "      <td>...</td>\n",
       "      <td>...</td>\n",
       "    </tr>\n",
       "    <tr>\n",
       "      <th>URKM</th>\n",
       "      <td>[Japan, Nepal, USA, Austria, France]</td>\n",
       "      <td>3.0</td>\n",
       "      <td>23</td>\n",
       "    </tr>\n",
       "    <tr>\n",
       "      <th>URMA</th>\n",
       "      <td>[Taiwan, S Korea, Singapore, Australia, Nepal,...</td>\n",
       "      <td>11.0</td>\n",
       "      <td>52</td>\n",
       "    </tr>\n",
       "    <tr>\n",
       "      <th>YAKA</th>\n",
       "      <td>[Japan, Nepal]</td>\n",
       "      <td>0.0</td>\n",
       "      <td>4</td>\n",
       "    </tr>\n",
       "    <tr>\n",
       "      <th>YALU</th>\n",
       "      <td>[Japan, W Germany, Austria, Mexico, Poland, Fr...</td>\n",
       "      <td>1.0</td>\n",
       "      <td>53</td>\n",
       "    </tr>\n",
       "    <tr>\n",
       "      <th>YAUP</th>\n",
       "      <td>[UK, USA]</td>\n",
       "      <td>0.0</td>\n",
       "      <td>3</td>\n",
       "    </tr>\n",
       "  </tbody>\n",
       "</table>\n",
       "<p>295 rows × 3 columns</p>\n",
       "</div>"
      ],
      "text/plain": [
       "                                                  citizen  female  expid\n",
       "peakid                                                                  \n",
       "ACHN                               [France, Nepal, Japan]     1.0     11\n",
       "AMAD    [W Germany, USA, Nepal, France, New Zealand, J...   322.0   3540\n",
       "AMPG                                          [UK, Nepal]     1.0     10\n",
       "AMPH                                            [S Korea]     1.0      3\n",
       "AMPM                                            [Germany]     1.0      5\n",
       "...                                                   ...     ...    ...\n",
       "URKM                 [Japan, Nepal, USA, Austria, France]     3.0     23\n",
       "URMA    [Taiwan, S Korea, Singapore, Australia, Nepal,...    11.0     52\n",
       "YAKA                                       [Japan, Nepal]     0.0      4\n",
       "YALU    [Japan, W Germany, Austria, Mexico, Poland, Fr...     1.0     53\n",
       "YAUP                                            [UK, USA]     0.0      3\n",
       "\n",
       "[295 rows x 3 columns]"
      ]
     },
     "execution_count": 177,
     "metadata": {},
     "output_type": "execute_result"
    }
   ],
   "source": [
    "gdf_mem_success "
   ]
  },
  {
   "cell_type": "code",
   "execution_count": 178,
   "metadata": {},
   "outputs": [],
   "source": [
    "#gdf_mem.columns = ['_'.join(col).strip() for col in gdf_mem.columns.values]\n",
    "#gdf_mem_success.columns = ['_'.join(col).strip() for col in gdf_mem_success.columns.values]"
   ]
  },
  {
   "cell_type": "code",
   "execution_count": 179,
   "metadata": {},
   "outputs": [],
   "source": [
    "## Rename columns accordingly"
   ]
  },
  {
   "cell_type": "code",
   "execution_count": 180,
   "metadata": {},
   "outputs": [],
   "source": [
    "gdf_mem.rename(columns={'expid' : 'count_mem_try', \"female\" :  \"count_mem_try_female\", \"calcage\" :\"mean_mem_try_age\", \"citizen\" : \"country_mem_try\", \"route1\" : \"most_pop_route\" }, inplace=True)\n",
    "gdf_mem_success.rename(columns={'expid' : 'count_mem_success', \"female\" :  \"count_mem_success_female\", \"calcage\" :\"mean_mem_success_age\", \"citizen\" : \"country_mem_success\" }, inplace=True)"
   ]
  },
  {
   "cell_type": "code",
   "execution_count": 181,
   "metadata": {},
   "outputs": [],
   "source": [
    "gdf_mem = pd.merge(gdf_mem,gdf_mem_success, on=\"peakid\", how=\"left\") "
   ]
  },
  {
   "cell_type": "code",
   "execution_count": 182,
   "metadata": {},
   "outputs": [],
   "source": [
    "gdf_mem.reset_index(inplace=True)"
   ]
  },
  {
   "cell_type": "markdown",
   "metadata": {},
   "source": [
    "### Merge with Peak data"
   ]
  },
  {
   "cell_type": "code",
   "execution_count": 183,
   "metadata": {},
   "outputs": [],
   "source": [
    "df = pd.merge(df_peaks,gdf_mem, on='peakid', how=\"left\")"
   ]
  },
  {
   "cell_type": "code",
   "execution_count": 184,
   "metadata": {},
   "outputs": [],
   "source": [
    "## WOrk with the ones with coords\n",
    "df.dropna(subset=[\"lng\"], inplace=True)"
   ]
  },
  {
   "cell_type": "markdown",
   "metadata": {},
   "source": [
    "##### Adding ISO the the countries"
   ]
  },
  {
   "cell_type": "code",
   "execution_count": 185,
   "metadata": {},
   "outputs": [],
   "source": [
    "import country_converter as coco\n",
    "\n",
    "manual_map = {\"USSR\": 'USSR', \"UK\" : \"GB\", \"UAE\" : \"AE\", \"W Germany\" : \"DE\", \"S Africa\" : \"ZA\", \"Yugoslavia\" : \"YUG\" }\n"
   ]
  },
  {
   "cell_type": "code",
   "execution_count": 186,
   "metadata": {},
   "outputs": [],
   "source": [
    "df.country_mem_success = df.country_mem_success.apply(lambda x : x if isinstance(x,float) else sum([i.split(\"/\") for i in x ], []))"
   ]
  },
  {
   "cell_type": "code",
   "execution_count": 187,
   "metadata": {},
   "outputs": [],
   "source": [
    "df.country_mem_success = df.country_mem_success.apply(lambda x : [ c if manual_map.get(c) == None else manual_map.get(c) for c in x ] if not isinstance(x,float) else x)"
   ]
  },
  {
   "cell_type": "code",
   "execution_count": 188,
   "metadata": {},
   "outputs": [
    {
     "name": "stderr",
     "output_type": "stream",
     "text": [
      "YUG not found in ISO3\n",
      "USSR not found in regex\n",
      "YUG not found in ISO3\n",
      "YUG not found in ISO3\n",
      "YUG not found in ISO3\n",
      "YUG not found in ISO3\n",
      "USSR not found in regex\n",
      "YUG not found in ISO3\n",
      "USSR not found in regex\n",
      "YUG not found in ISO3\n",
      "USSR not found in regex\n",
      "YUG not found in ISO3\n",
      "YUG not found in ISO3\n",
      "USSR not found in regex\n",
      "YUG not found in ISO3\n",
      "YUG not found in ISO3\n",
      "YUG not found in ISO3\n",
      "USSR not found in regex\n",
      "YUG not found in ISO3\n",
      "YUG not found in ISO3\n",
      "USSR not found in regex\n",
      "YUG not found in ISO3\n",
      "YUG not found in ISO3\n",
      "USSR not found in regex\n"
     ]
    }
   ],
   "source": [
    "df.country_mem_success = df.country_mem_success.apply(lambda x : coco.convert(names=x, to='ISO2' , not_found=None) if not isinstance(x,float) else x)"
   ]
  },
  {
   "cell_type": "code",
   "execution_count": 189,
   "metadata": {},
   "outputs": [
    {
     "data": {
      "text/plain": [
       "2      99\n",
       "4       2\n",
       "8      40\n",
       "9       7\n",
       "10      9\n",
       "       ..\n",
       "446     2\n",
       "451     3\n",
       "452    11\n",
       "456     2\n",
       "457    11\n",
       "Name: country_mem_success, Length: 131, dtype: int64"
      ]
     },
     "execution_count": 189,
     "metadata": {},
     "output_type": "execute_result"
    }
   ],
   "source": [
    "df.country_mem_success[~df.country_mem_success.isna()].apply(len)"
   ]
  },
  {
   "cell_type": "markdown",
   "metadata": {},
   "source": [
    "### Line Chart data create"
   ]
  },
  {
   "cell_type": "code",
   "execution_count": 190,
   "metadata": {},
   "outputs": [],
   "source": [
    "df_temp = df_mem.groupby(['peakid', 'myear']).agg({'membid' : 'count','msuccess' : 'sum','death' : 'sum'})"
   ]
  },
  {
   "cell_type": "code",
   "execution_count": 191,
   "metadata": {},
   "outputs": [],
   "source": [
    "df_temp = df_temp.reset_index().sort_values([\"peakid\", 'myear'], ascending=[True,True]).groupby(['peakid' ]).agg(list).rename(columns={\"myear\" : \"lineX\", \"membid\" : \"lineY_attemps\", \"msuccess\" : \"lineY_success\", \"death\" : \"lineY_death\"} )"
   ]
  },
  {
   "cell_type": "code",
   "execution_count": 192,
   "metadata": {},
   "outputs": [],
   "source": [
    "df = pd.merge(df,df_temp, on='peakid', how=\"left\")"
   ]
  },
  {
   "cell_type": "code",
   "execution_count": 193,
   "metadata": {},
   "outputs": [
    {
     "data": {
      "text/html": [
       "<div>\n",
       "<style scoped>\n",
       "    .dataframe tbody tr th:only-of-type {\n",
       "        vertical-align: middle;\n",
       "    }\n",
       "\n",
       "    .dataframe tbody tr th {\n",
       "        vertical-align: top;\n",
       "    }\n",
       "\n",
       "    .dataframe thead th {\n",
       "        text-align: right;\n",
       "    }\n",
       "</style>\n",
       "<table border=\"1\" class=\"dataframe\">\n",
       "  <thead>\n",
       "    <tr style=\"text-align: right;\">\n",
       "      <th></th>\n",
       "      <th>peakid</th>\n",
       "      <th>pkname</th>\n",
       "      <th>pkname2</th>\n",
       "      <th>location</th>\n",
       "      <th>heightm</th>\n",
       "      <th>heightf</th>\n",
       "      <th>himal</th>\n",
       "      <th>region</th>\n",
       "      <th>open</th>\n",
       "      <th>unlisted</th>\n",
       "      <th>...</th>\n",
       "      <th>country_mem_try</th>\n",
       "      <th>mo2used</th>\n",
       "      <th>most_pop_route</th>\n",
       "      <th>country_mem_success</th>\n",
       "      <th>count_mem_success_female</th>\n",
       "      <th>count_mem_success</th>\n",
       "      <th>lineX</th>\n",
       "      <th>lineY_attemps</th>\n",
       "      <th>lineY_success</th>\n",
       "      <th>lineY_death</th>\n",
       "    </tr>\n",
       "  </thead>\n",
       "  <tbody>\n",
       "    <tr>\n",
       "      <th>0</th>\n",
       "      <td>AMAD</td>\n",
       "      <td>Ama Dablam</td>\n",
       "      <td>Amai Dablang</td>\n",
       "      <td>Khumbu Himal</td>\n",
       "      <td>6814</td>\n",
       "      <td>22356</td>\n",
       "      <td>12</td>\n",
       "      <td>2</td>\n",
       "      <td>True</td>\n",
       "      <td>False</td>\n",
       "      <td>...</td>\n",
       "      <td>[France, USA, W Germany, Nepal, New Zealand, A...</td>\n",
       "      <td>15.0</td>\n",
       "      <td>SW Ridge</td>\n",
       "      <td>[DE, US, NP, FR, NZ, JP, ES, AU, CH, AT, BE, K...</td>\n",
       "      <td>322.0</td>\n",
       "      <td>3540.0</td>\n",
       "      <td>[1958, 1959, 1961, 1978, 1979, 1980, 1981, 198...</td>\n",
       "      <td>[6, 8, 5, 9, 54, 16, 35, 15, 46, 24, 54, 43, 5...</td>\n",
       "      <td>[0.0, 0.0, 4.0, 0.0, 26.0, 11.0, 17.0, 8.0, 33...</td>\n",
       "      <td>[0.0, 2.0, 0.0, 0.0, 1.0, 0.0, 0.0, 0.0, 2.0, ...</td>\n",
       "    </tr>\n",
       "    <tr>\n",
       "      <th>1</th>\n",
       "      <td>AMPG</td>\n",
       "      <td>Amphu Gyabjen</td>\n",
       "      <td>NaN</td>\n",
       "      <td>Khumbu Himal (N of Ama Dablam)</td>\n",
       "      <td>5630</td>\n",
       "      <td>18471</td>\n",
       "      <td>12</td>\n",
       "      <td>2</td>\n",
       "      <td>True</td>\n",
       "      <td>False</td>\n",
       "      <td>...</td>\n",
       "      <td>[UK, Nepal]</td>\n",
       "      <td>4.0</td>\n",
       "      <td>S Ridge</td>\n",
       "      <td>[GB, NP]</td>\n",
       "      <td>1.0</td>\n",
       "      <td>10.0</td>\n",
       "      <td>[1953, 1959, 2010]</td>\n",
       "      <td>[4, 6, 3]</td>\n",
       "      <td>[4.0, 6.0, 0.0]</td>\n",
       "      <td>[0.0, 0.0, 0.0]</td>\n",
       "    </tr>\n",
       "    <tr>\n",
       "      <th>2</th>\n",
       "      <td>ANN1</td>\n",
       "      <td>Annapurna I</td>\n",
       "      <td>NaN</td>\n",
       "      <td>Annapurna Himal</td>\n",
       "      <td>8091</td>\n",
       "      <td>26545</td>\n",
       "      <td>1</td>\n",
       "      <td>5</td>\n",
       "      <td>True</td>\n",
       "      <td>False</td>\n",
       "      <td>...</td>\n",
       "      <td>[W Germany, Iran, UK, USA, Nepal, Japan, Italy...</td>\n",
       "      <td>58.0</td>\n",
       "      <td>N Face</td>\n",
       "      <td>[GB, NL, NP, CZ, US, JP, FR, DE, CH, AT, IT, P...</td>\n",
       "      <td>11.0</td>\n",
       "      <td>225.0</td>\n",
       "      <td>[1950, 1961, 1965, 1969, 1970, 1973, 1975, 197...</td>\n",
       "      <td>[16, 1, 5, 11, 34, 25, 9, 13, 24, 32, 31, 39, ...</td>\n",
       "      <td>[2.0, 0.0, 0.0, 0.0, 4.0, 0.0, 0.0, 2.0, 4.0, ...</td>\n",
       "      <td>[0.0, 0.0, 0.0, 0.0, 1.0, 7.0, 1.0, 0.0, 2.0, ...</td>\n",
       "    </tr>\n",
       "    <tr>\n",
       "      <th>3</th>\n",
       "      <td>ANN2</td>\n",
       "      <td>Annapurna II</td>\n",
       "      <td>NaN</td>\n",
       "      <td>Annapurna Himal</td>\n",
       "      <td>7937</td>\n",
       "      <td>26040</td>\n",
       "      <td>1</td>\n",
       "      <td>5</td>\n",
       "      <td>True</td>\n",
       "      <td>False</td>\n",
       "      <td>...</td>\n",
       "      <td>[UK, India, Nepal, Yugoslavia, Japan, W German...</td>\n",
       "      <td>3.0</td>\n",
       "      <td>NW Ridge-W Ridge</td>\n",
       "      <td>[GB, NP, YUG, JP, AU, KR, DE]</td>\n",
       "      <td>0.0</td>\n",
       "      <td>16.0</td>\n",
       "      <td>[1950, 1953, 1957, 1960, 1969, 1971, 1973, 197...</td>\n",
       "      <td>[1, 2, 5, 19, 10, 12, 6, 8, 7, 3, 14, 28, 5, 2...</td>\n",
       "      <td>[0.0, 0.0, 0.0, 3.0, 2.0, 0.0, 1.0, 0.0, 0.0, ...</td>\n",
       "      <td>[0.0, 0.0, 0.0, 0.0, 0.0, 1.0, 0.0, 0.0, 0.0, ...</td>\n",
       "    </tr>\n",
       "    <tr>\n",
       "      <th>4</th>\n",
       "      <td>ANN3</td>\n",
       "      <td>Annapurna III</td>\n",
       "      <td>NaN</td>\n",
       "      <td>Annapurna Himal</td>\n",
       "      <td>7555</td>\n",
       "      <td>24787</td>\n",
       "      <td>1</td>\n",
       "      <td>5</td>\n",
       "      <td>True</td>\n",
       "      <td>False</td>\n",
       "      <td>...</td>\n",
       "      <td>[Japan, Nepal, Italy, USA, UK, Australia, Swit...</td>\n",
       "      <td>5.0</td>\n",
       "      <td>N Face</td>\n",
       "      <td>[JP, NP, IT, GB, CH, KR, IN, ES, US]</td>\n",
       "      <td>3.0</td>\n",
       "      <td>31.0</td>\n",
       "      <td>[1961, 1970, 1977, 1978, 1979, 1980, 1981, 198...</td>\n",
       "      <td>[10, 11, 29, 15, 7, 24, 3, 21, 9, 4, 30, 13, 6...</td>\n",
       "      <td>[3.0, 4.0, 5.0, 0.0, 2.0, 2.0, 0.0, 1.0, 0.0, ...</td>\n",
       "      <td>[0.0, 0.0, 1.0, 0.0, 0.0, 3.0, 0.0, 1.0, 1.0, ...</td>\n",
       "    </tr>\n",
       "    <tr>\n",
       "      <th>...</th>\n",
       "      <td>...</td>\n",
       "      <td>...</td>\n",
       "      <td>...</td>\n",
       "      <td>...</td>\n",
       "      <td>...</td>\n",
       "      <td>...</td>\n",
       "      <td>...</td>\n",
       "      <td>...</td>\n",
       "      <td>...</td>\n",
       "      <td>...</td>\n",
       "      <td>...</td>\n",
       "      <td>...</td>\n",
       "      <td>...</td>\n",
       "      <td>...</td>\n",
       "      <td>...</td>\n",
       "      <td>...</td>\n",
       "      <td>...</td>\n",
       "      <td>...</td>\n",
       "      <td>...</td>\n",
       "      <td>...</td>\n",
       "      <td>...</td>\n",
       "    </tr>\n",
       "    <tr>\n",
       "      <th>146</th>\n",
       "      <td>TSUR</td>\n",
       "      <td>Tsaurabong Peak</td>\n",
       "      <td>Chara Ban Peak, White Peak</td>\n",
       "      <td>Dhaulagiri Himal (SSE of Dhaulagiri V)</td>\n",
       "      <td>6395</td>\n",
       "      <td>20981</td>\n",
       "      <td>4</td>\n",
       "      <td>6</td>\n",
       "      <td>False</td>\n",
       "      <td>True</td>\n",
       "      <td>...</td>\n",
       "      <td>[Japan, Spain, Nepal]</td>\n",
       "      <td>0.0</td>\n",
       "      <td>E Ridge</td>\n",
       "      <td>[JP, ES, NP]</td>\n",
       "      <td>0.0</td>\n",
       "      <td>30.0</td>\n",
       "      <td>[1974, 1975, 1979, 1987]</td>\n",
       "      <td>[3, 15, 8, 6]</td>\n",
       "      <td>[3.0, 14.0, 7.0, 6.0]</td>\n",
       "      <td>[0.0, 0.0, 0.0, 0.0]</td>\n",
       "    </tr>\n",
       "    <tr>\n",
       "      <th>147</th>\n",
       "      <td>TUKU</td>\n",
       "      <td>Tukuche</td>\n",
       "      <td>NaN</td>\n",
       "      <td>Dhaulagiri Himal (NE of Dhaulagiri I)</td>\n",
       "      <td>6920</td>\n",
       "      <td>22703</td>\n",
       "      <td>4</td>\n",
       "      <td>6</td>\n",
       "      <td>True</td>\n",
       "      <td>False</td>\n",
       "      <td>...</td>\n",
       "      <td>[Switzerland, Nepal, Japan, Italy, France, Bel...</td>\n",
       "      <td>3.0</td>\n",
       "      <td>NW Ridge</td>\n",
       "      <td>[JP, NP, KR, ES, GR, FR, US, NL, AT, SI, FI]</td>\n",
       "      <td>8.0</td>\n",
       "      <td>93.0</td>\n",
       "      <td>[1968, 1969, 1970, 1972, 1974, 1976, 1977, 197...</td>\n",
       "      <td>[3, 6, 17, 6, 5, 10, 4, 16, 7, 11, 10, 17, 13,...</td>\n",
       "      <td>[3.0, 0.0, 3.0, 2.0, 4.0, 9.0, 0.0, 0.0, 0.0, ...</td>\n",
       "      <td>[0.0, 0.0, 1.0, 0.0, 0.0, 0.0, 1.0, 0.0, 0.0, ...</td>\n",
       "    </tr>\n",
       "    <tr>\n",
       "      <th>148</th>\n",
       "      <td>YAKA</td>\n",
       "      <td>Yakawa Kang</td>\n",
       "      <td>NaN</td>\n",
       "      <td>Damodar Himal (N of Thorong La)</td>\n",
       "      <td>6482</td>\n",
       "      <td>21266</td>\n",
       "      <td>3</td>\n",
       "      <td>5</td>\n",
       "      <td>True</td>\n",
       "      <td>False</td>\n",
       "      <td>...</td>\n",
       "      <td>[Japan, Nepal]</td>\n",
       "      <td>0.0</td>\n",
       "      <td>S Face</td>\n",
       "      <td>[JP, NP]</td>\n",
       "      <td>0.0</td>\n",
       "      <td>4.0</td>\n",
       "      <td>[2008, 2009, 2010]</td>\n",
       "      <td>[16, 2, 5]</td>\n",
       "      <td>[0.0, 0.0, 4.0]</td>\n",
       "      <td>[0.0, 0.0, 0.0]</td>\n",
       "    </tr>\n",
       "    <tr>\n",
       "      <th>149</th>\n",
       "      <td>YALU</td>\n",
       "      <td>Yalung Kang</td>\n",
       "      <td>Yalungkar</td>\n",
       "      <td>Kangchenjunga Himal (W summit of Kangchenjunga)</td>\n",
       "      <td>8505</td>\n",
       "      <td>27904</td>\n",
       "      <td>9</td>\n",
       "      <td>1</td>\n",
       "      <td>True</td>\n",
       "      <td>False</td>\n",
       "      <td>...</td>\n",
       "      <td>[Japan, Austria, W Germany, Spain, Mexico, Aus...</td>\n",
       "      <td>53.0</td>\n",
       "      <td>SE Face</td>\n",
       "      <td>[JP, DE, AT, MX, PL, FR, YUG, ES, KR, NP, USSR]</td>\n",
       "      <td>1.0</td>\n",
       "      <td>53.0</td>\n",
       "      <td>[1973, 1974, 1975, 1978, 1980, 1981, 1984, 198...</td>\n",
       "      <td>[16, 13, 12, 14, 13, 24, 17, 16, 7, 17, 34, 6,...</td>\n",
       "      <td>[2.0, 0.0, 9.0, 0.0, 1.0, 5.0, 8.0, 2.0, 0.0, ...</td>\n",
       "      <td>[1.0, 0.0, 0.0, 0.0, 2.0, 0.0, 0.0, 1.0, 0.0, ...</td>\n",
       "    </tr>\n",
       "    <tr>\n",
       "      <th>150</th>\n",
       "      <td>YANS</td>\n",
       "      <td>Yansa Tsenji</td>\n",
       "      <td>Dragpoche, Dhagpache</td>\n",
       "      <td>Langtang Himal (SW of Shalbachum on Tibetan bo...</td>\n",
       "      <td>6567</td>\n",
       "      <td>21545</td>\n",
       "      <td>13</td>\n",
       "      <td>3</td>\n",
       "      <td>True</td>\n",
       "      <td>False</td>\n",
       "      <td>...</td>\n",
       "      <td>[UK, Japan]</td>\n",
       "      <td>0.0</td>\n",
       "      <td>E Ridge</td>\n",
       "      <td>NaN</td>\n",
       "      <td>NaN</td>\n",
       "      <td>NaN</td>\n",
       "      <td>[2003, 2010]</td>\n",
       "      <td>[6, 2]</td>\n",
       "      <td>[0.0, 0.0]</td>\n",
       "      <td>[0.0, 0.0]</td>\n",
       "    </tr>\n",
       "  </tbody>\n",
       "</table>\n",
       "<p>151 rows × 39 columns</p>\n",
       "</div>"
      ],
      "text/plain": [
       "    peakid           pkname                     pkname2  \\\n",
       "0     AMAD       Ama Dablam                Amai Dablang   \n",
       "1     AMPG    Amphu Gyabjen                         NaN   \n",
       "2     ANN1      Annapurna I                         NaN   \n",
       "3     ANN2     Annapurna II                         NaN   \n",
       "4     ANN3    Annapurna III                         NaN   \n",
       "..     ...              ...                         ...   \n",
       "146   TSUR  Tsaurabong Peak  Chara Ban Peak, White Peak   \n",
       "147   TUKU          Tukuche                         NaN   \n",
       "148   YAKA      Yakawa Kang                         NaN   \n",
       "149   YALU      Yalung Kang                   Yalungkar   \n",
       "150   YANS     Yansa Tsenji        Dragpoche, Dhagpache   \n",
       "\n",
       "                                              location  heightm  heightf  \\\n",
       "0                                         Khumbu Himal     6814    22356   \n",
       "1                       Khumbu Himal (N of Ama Dablam)     5630    18471   \n",
       "2                                      Annapurna Himal     8091    26545   \n",
       "3                                      Annapurna Himal     7937    26040   \n",
       "4                                      Annapurna Himal     7555    24787   \n",
       "..                                                 ...      ...      ...   \n",
       "146             Dhaulagiri Himal (SSE of Dhaulagiri V)     6395    20981   \n",
       "147              Dhaulagiri Himal (NE of Dhaulagiri I)     6920    22703   \n",
       "148                    Damodar Himal (N of Thorong La)     6482    21266   \n",
       "149    Kangchenjunga Himal (W summit of Kangchenjunga)     8505    27904   \n",
       "150  Langtang Himal (SW of Shalbachum on Tibetan bo...     6567    21545   \n",
       "\n",
       "     himal  region   open  unlisted  ...  \\\n",
       "0       12       2   True     False  ...   \n",
       "1       12       2   True     False  ...   \n",
       "2        1       5   True     False  ...   \n",
       "3        1       5   True     False  ...   \n",
       "4        1       5   True     False  ...   \n",
       "..     ...     ...    ...       ...  ...   \n",
       "146      4       6  False      True  ...   \n",
       "147      4       6   True     False  ...   \n",
       "148      3       5   True     False  ...   \n",
       "149      9       1   True     False  ...   \n",
       "150     13       3   True     False  ...   \n",
       "\n",
       "                                       country_mem_try  mo2used  \\\n",
       "0    [France, USA, W Germany, Nepal, New Zealand, A...     15.0   \n",
       "1                                          [UK, Nepal]      4.0   \n",
       "2    [W Germany, Iran, UK, USA, Nepal, Japan, Italy...     58.0   \n",
       "3    [UK, India, Nepal, Yugoslavia, Japan, W German...      3.0   \n",
       "4    [Japan, Nepal, Italy, USA, UK, Australia, Swit...      5.0   \n",
       "..                                                 ...      ...   \n",
       "146                              [Japan, Spain, Nepal]      0.0   \n",
       "147  [Switzerland, Nepal, Japan, Italy, France, Bel...      3.0   \n",
       "148                                     [Japan, Nepal]      0.0   \n",
       "149  [Japan, Austria, W Germany, Spain, Mexico, Aus...     53.0   \n",
       "150                                        [UK, Japan]      0.0   \n",
       "\n",
       "       most_pop_route                                country_mem_success  \\\n",
       "0            SW Ridge  [DE, US, NP, FR, NZ, JP, ES, AU, CH, AT, BE, K...   \n",
       "1             S Ridge                                           [GB, NP]   \n",
       "2              N Face  [GB, NL, NP, CZ, US, JP, FR, DE, CH, AT, IT, P...   \n",
       "3    NW Ridge-W Ridge                      [GB, NP, YUG, JP, AU, KR, DE]   \n",
       "4              N Face               [JP, NP, IT, GB, CH, KR, IN, ES, US]   \n",
       "..                ...                                                ...   \n",
       "146           E Ridge                                       [JP, ES, NP]   \n",
       "147          NW Ridge       [JP, NP, KR, ES, GR, FR, US, NL, AT, SI, FI]   \n",
       "148            S Face                                           [JP, NP]   \n",
       "149           SE Face    [JP, DE, AT, MX, PL, FR, YUG, ES, KR, NP, USSR]   \n",
       "150           E Ridge                                                NaN   \n",
       "\n",
       "     count_mem_success_female  count_mem_success  \\\n",
       "0                       322.0             3540.0   \n",
       "1                         1.0               10.0   \n",
       "2                        11.0              225.0   \n",
       "3                         0.0               16.0   \n",
       "4                         3.0               31.0   \n",
       "..                        ...                ...   \n",
       "146                       0.0               30.0   \n",
       "147                       8.0               93.0   \n",
       "148                       0.0                4.0   \n",
       "149                       1.0               53.0   \n",
       "150                       NaN                NaN   \n",
       "\n",
       "                                                 lineX  \\\n",
       "0    [1958, 1959, 1961, 1978, 1979, 1980, 1981, 198...   \n",
       "1                                   [1953, 1959, 2010]   \n",
       "2    [1950, 1961, 1965, 1969, 1970, 1973, 1975, 197...   \n",
       "3    [1950, 1953, 1957, 1960, 1969, 1971, 1973, 197...   \n",
       "4    [1961, 1970, 1977, 1978, 1979, 1980, 1981, 198...   \n",
       "..                                                 ...   \n",
       "146                           [1974, 1975, 1979, 1987]   \n",
       "147  [1968, 1969, 1970, 1972, 1974, 1976, 1977, 197...   \n",
       "148                                 [2008, 2009, 2010]   \n",
       "149  [1973, 1974, 1975, 1978, 1980, 1981, 1984, 198...   \n",
       "150                                       [2003, 2010]   \n",
       "\n",
       "                                         lineY_attemps  \\\n",
       "0    [6, 8, 5, 9, 54, 16, 35, 15, 46, 24, 54, 43, 5...   \n",
       "1                                            [4, 6, 3]   \n",
       "2    [16, 1, 5, 11, 34, 25, 9, 13, 24, 32, 31, 39, ...   \n",
       "3    [1, 2, 5, 19, 10, 12, 6, 8, 7, 3, 14, 28, 5, 2...   \n",
       "4    [10, 11, 29, 15, 7, 24, 3, 21, 9, 4, 30, 13, 6...   \n",
       "..                                                 ...   \n",
       "146                                      [3, 15, 8, 6]   \n",
       "147  [3, 6, 17, 6, 5, 10, 4, 16, 7, 11, 10, 17, 13,...   \n",
       "148                                         [16, 2, 5]   \n",
       "149  [16, 13, 12, 14, 13, 24, 17, 16, 7, 17, 34, 6,...   \n",
       "150                                             [6, 2]   \n",
       "\n",
       "                                         lineY_success  \\\n",
       "0    [0.0, 0.0, 4.0, 0.0, 26.0, 11.0, 17.0, 8.0, 33...   \n",
       "1                                      [4.0, 6.0, 0.0]   \n",
       "2    [2.0, 0.0, 0.0, 0.0, 4.0, 0.0, 0.0, 2.0, 4.0, ...   \n",
       "3    [0.0, 0.0, 0.0, 3.0, 2.0, 0.0, 1.0, 0.0, 0.0, ...   \n",
       "4    [3.0, 4.0, 5.0, 0.0, 2.0, 2.0, 0.0, 1.0, 0.0, ...   \n",
       "..                                                 ...   \n",
       "146                              [3.0, 14.0, 7.0, 6.0]   \n",
       "147  [3.0, 0.0, 3.0, 2.0, 4.0, 9.0, 0.0, 0.0, 0.0, ...   \n",
       "148                                    [0.0, 0.0, 4.0]   \n",
       "149  [2.0, 0.0, 9.0, 0.0, 1.0, 5.0, 8.0, 2.0, 0.0, ...   \n",
       "150                                         [0.0, 0.0]   \n",
       "\n",
       "                                           lineY_death  \n",
       "0    [0.0, 2.0, 0.0, 0.0, 1.0, 0.0, 0.0, 0.0, 2.0, ...  \n",
       "1                                      [0.0, 0.0, 0.0]  \n",
       "2    [0.0, 0.0, 0.0, 0.0, 1.0, 7.0, 1.0, 0.0, 2.0, ...  \n",
       "3    [0.0, 0.0, 0.0, 0.0, 0.0, 1.0, 0.0, 0.0, 0.0, ...  \n",
       "4    [0.0, 0.0, 1.0, 0.0, 0.0, 3.0, 0.0, 1.0, 1.0, ...  \n",
       "..                                                 ...  \n",
       "146                               [0.0, 0.0, 0.0, 0.0]  \n",
       "147  [0.0, 0.0, 1.0, 0.0, 0.0, 0.0, 1.0, 0.0, 0.0, ...  \n",
       "148                                    [0.0, 0.0, 0.0]  \n",
       "149  [1.0, 0.0, 0.0, 0.0, 2.0, 0.0, 0.0, 1.0, 0.0, ...  \n",
       "150                                         [0.0, 0.0]  \n",
       "\n",
       "[151 rows x 39 columns]"
      ]
     },
     "execution_count": 193,
     "metadata": {},
     "output_type": "execute_result"
    }
   ],
   "source": [
    "df"
   ]
  },
  {
   "cell_type": "code",
   "execution_count": null,
   "metadata": {},
   "outputs": [],
   "source": []
  },
  {
   "cell_type": "code",
   "execution_count": null,
   "metadata": {},
   "outputs": [],
   "source": []
  },
  {
   "cell_type": "code",
   "execution_count": null,
   "metadata": {},
   "outputs": [],
   "source": []
  },
  {
   "cell_type": "code",
   "execution_count": null,
   "metadata": {},
   "outputs": [],
   "source": []
  },
  {
   "cell_type": "code",
   "execution_count": null,
   "metadata": {},
   "outputs": [],
   "source": []
  },
  {
   "cell_type": "code",
   "execution_count": 194,
   "metadata": {},
   "outputs": [],
   "source": [
    "df.to_json(\"./Himalayan Database/GeoData/peaks2.json\", orient='records')"
   ]
  },
  {
   "cell_type": "code",
   "execution_count": 195,
   "metadata": {},
   "outputs": [],
   "source": [
    "df.to_csv(\"./Himalayan Database/GeoData/peaks2.csv\")"
   ]
  },
  {
   "cell_type": "code",
   "execution_count": 196,
   "metadata": {},
   "outputs": [],
   "source": [
    "df['id'] = df.apply(lambda x : [x.lat,x.lng], axis=1)\n",
    "df['label'] = df.pkname + \" - \" + df.heightm.astype(\"str\") + \"m\""
   ]
  },
  {
   "cell_type": "code",
   "execution_count": 197,
   "metadata": {},
   "outputs": [],
   "source": [
    "df[['id', 'label']].to_json(\"./Himalayan Database/GeoData/peaks_search.json\" ,orient=\"records\")"
   ]
  },
  {
   "cell_type": "code",
   "execution_count": null,
   "metadata": {},
   "outputs": [],
   "source": []
  },
  {
   "cell_type": "code",
   "execution_count": null,
   "metadata": {},
   "outputs": [],
   "source": []
  },
  {
   "cell_type": "code",
   "execution_count": 198,
   "metadata": {},
   "outputs": [
    {
     "ename": "NameError",
     "evalue": "name 'data' is not defined",
     "output_type": "error",
     "traceback": [
      "\u001b[1;31m---------------------------------------------------------------------------\u001b[0m",
      "\u001b[1;31mNameError\u001b[0m                                 Traceback (most recent call last)",
      "\u001b[1;32m<ipython-input-198-fb2954975add>\u001b[0m in \u001b[0;36m<module>\u001b[1;34m\u001b[0m\n\u001b[0;32m      9\u001b[0m             },\n\u001b[0;32m     10\u001b[0m         \u001b[1;34m\"properties\"\u001b[0m \u001b[1;33m:\u001b[0m \u001b[0md\u001b[0m\u001b[1;33m,\u001b[0m\u001b[1;33m\u001b[0m\u001b[1;33m\u001b[0m\u001b[0m\n\u001b[1;32m---> 11\u001b[1;33m      } for d in data]\n\u001b[0m\u001b[0;32m     12\u001b[0m }\n",
      "\u001b[1;31mNameError\u001b[0m: name 'data' is not defined"
     ]
    }
   ],
   "source": [
    "geojson = {\n",
    "    \"type\": \"FeatureCollection\",\n",
    "    \"features\": [\n",
    "    {\n",
    "        \"type\": \"Feature\",\n",
    "        \"geometry\" : {\n",
    "            \"type\": \"Point\",\n",
    "            \"coordinates\": [d[\"lon\"], d[\"lat\"]],\n",
    "            },\n",
    "        \"properties\" : d,\n",
    "     } for d in data]\n",
    "}"
   ]
  },
  {
   "cell_type": "code",
   "execution_count": null,
   "metadata": {},
   "outputs": [],
   "source": [
    "df.to_dict(orient=\"records\")"
   ]
  },
  {
   "cell_type": "code",
   "execution_count": null,
   "metadata": {},
   "outputs": [],
   "source": [
    " \n",
    "    "
   ]
  },
  {
   "cell_type": "code",
   "execution_count": null,
   "metadata": {},
   "outputs": [],
   "source": []
  },
  {
   "cell_type": "code",
   "execution_count": null,
   "metadata": {},
   "outputs": [],
   "source": []
  },
  {
   "cell_type": "code",
   "execution_count": null,
   "metadata": {},
   "outputs": [],
   "source": []
  },
  {
   "cell_type": "code",
   "execution_count": null,
   "metadata": {},
   "outputs": [],
   "source": []
  },
  {
   "cell_type": "code",
   "execution_count": null,
   "metadata": {},
   "outputs": [],
   "source": []
  },
  {
   "cell_type": "code",
   "execution_count": null,
   "metadata": {},
   "outputs": [],
   "source": []
  },
  {
   "cell_type": "code",
   "execution_count": null,
   "metadata": {},
   "outputs": [],
   "source": []
  },
  {
   "cell_type": "code",
   "execution_count": null,
   "metadata": {},
   "outputs": [],
   "source": []
  },
  {
   "cell_type": "code",
   "execution_count": null,
   "metadata": {},
   "outputs": [],
   "source": []
  },
  {
   "cell_type": "code",
   "execution_count": null,
   "metadata": {},
   "outputs": [],
   "source": []
  },
  {
   "cell_type": "code",
   "execution_count": null,
   "metadata": {},
   "outputs": [],
   "source": []
  },
  {
   "cell_type": "code",
   "execution_count": null,
   "metadata": {},
   "outputs": [],
   "source": []
  }
 ],
 "metadata": {
  "kernelspec": {
   "display_name": "Python 3",
   "language": "python",
   "name": "python3"
  },
  "language_info": {
   "codemirror_mode": {
    "name": "ipython",
    "version": 3
   },
   "file_extension": ".py",
   "mimetype": "text/x-python",
   "name": "python",
   "nbconvert_exporter": "python",
   "pygments_lexer": "ipython3",
   "version": "3.8.3"
  }
 },
 "nbformat": 4,
 "nbformat_minor": 4
}
